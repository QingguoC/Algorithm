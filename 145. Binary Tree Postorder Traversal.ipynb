{
 "cells": [
  {
   "cell_type": "markdown",
   "metadata": {},
   "source": [
    "145. Binary Tree Postorder Traversal\n",
    "Given a binary tree, return the postorder traversal of its nodes' values.\n",
    "\n",
    "For example:\n",
    "Given binary tree {1,#,2,3},\n",
    "   1\n",
    "    \\\n",
    "     2\n",
    "    /\n",
    "   3\n",
    "return [3,2,1].\n",
    "\n",
    "Note: Recursive solution is trivial, could you do it iteratively?"
   ]
  },
  {
   "cell_type": "code",
   "execution_count": 3,
   "metadata": {
    "collapsed": true
   },
   "outputs": [],
   "source": [
    "class Solution(object):\n",
    "    def postorderTraversal(self, root):\n",
    "        \"\"\"\n",
    "        :type root: TreeNode\n",
    "        :rtype: List[int]\n",
    "        \"\"\"\n",
    "        self.res=[]\n",
    "        self.helper(root)\n",
    "        return self.res\n",
    "    def helper(self,root):\n",
    "        if not root:\n",
    "            return\n",
    "        self.helper(root.left)\n",
    "        self.helper(root.right)\n",
    "        self.res.append(root.val)\n",
    "    "
   ]
  },
  {
   "cell_type": "code",
   "execution_count": 2,
   "metadata": {
    "collapsed": true
   },
   "outputs": [],
   "source": [
    "class TreeNode(object):\n",
    "    def __init__(self, x):\n",
    "        self.val = x\n",
    "        self.left = None\n",
    "        self.right = None"
   ]
  },
  {
   "cell_type": "code",
   "execution_count": 16,
   "metadata": {
    "collapsed": true
   },
   "outputs": [],
   "source": [
    "t1=TreeNode(2)\n",
    "t2=TreeNode(0)\n",
    "t3=TreeNode(3)\n",
    "t1.left=t2\n",
    "t1.right=t3\n",
    "t4=TreeNode(4)\n",
    "t5=TreeNode(5)\n",
    "t6=TreeNode(6)\n",
    "t2.left=t4\n",
    "t2.right=t5\n",
    "t4.left=t6\n",
    "s=Solution()"
   ]
  },
  {
   "cell_type": "code",
   "execution_count": 17,
   "metadata": {
    "collapsed": false
   },
   "outputs": [
    {
     "data": {
      "text/plain": [
       "[6, 4, 5, 0, 3, 2]"
      ]
     },
     "execution_count": 17,
     "metadata": {},
     "output_type": "execute_result"
    }
   ],
   "source": [
    "s.postorderTraversal(t1)"
   ]
  },
  {
   "cell_type": "code",
   "execution_count": 15,
   "metadata": {
    "collapsed": false
   },
   "outputs": [],
   "source": [
    "class Solution(object):\n",
    "    def postorderTraversal(self, root):\n",
    "        \"\"\"\n",
    "        :type root: TreeNode\n",
    "        :rtype: List[int]\n",
    "        \"\"\"\n",
    "        if not root:\n",
    "            return []\n",
    "        res=[]\n",
    "        stack=[(root,False)]\n",
    "        while stack:\n",
    "            node,visited=stack.pop()\n",
    "            if node:\n",
    "                if visited:\n",
    "                    res.append(node.val)\n",
    "                else:\n",
    "                    stack.append((node,True))\n",
    "                    stack.append((node.right,False))\n",
    "                    stack.append((node.left,False))\n",
    "        return res"
   ]
  },
  {
   "cell_type": "code",
   "execution_count": 11,
   "metadata": {
    "collapsed": true
   },
   "outputs": [],
   "source": []
  },
  {
   "cell_type": "code",
   "execution_count": null,
   "metadata": {
    "collapsed": true
   },
   "outputs": [],
   "source": []
  }
 ],
 "metadata": {
  "kernelspec": {
   "display_name": "Python [default]",
   "language": "python",
   "name": "python3"
  },
  "language_info": {
   "codemirror_mode": {
    "name": "ipython",
    "version": 3
   },
   "file_extension": ".py",
   "mimetype": "text/x-python",
   "name": "python",
   "nbconvert_exporter": "python",
   "pygments_lexer": "ipython3",
   "version": "3.5.2"
  }
 },
 "nbformat": 4,
 "nbformat_minor": 1
}
