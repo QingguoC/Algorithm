{
 "cells": [
  {
   "cell_type": "markdown",
   "metadata": {},
   "source": [
    "Shuffle a set of numbers without duplicates.\n",
    "\n",
    "Example:\n",
    "\n",
    "// Init an array with set 1, 2, and 3.\n",
    "int[] nums = {1,2,3};\n",
    "Solution solution = new Solution(nums);\n",
    "\n",
    "// Shuffle the array [1,2,3] and return its result. Any permutation of [1,2,3] must equally likely to be returned.\n",
    "solution.shuffle();\n",
    "\n",
    "// Resets the array back to its original configuration [1,2,3].\n",
    "solution.reset();\n",
    "\n",
    "// Returns the random shuffling of array [1,2,3].\n",
    "solution.shuffle();"
   ]
  },
  {
   "cell_type": "code",
   "execution_count": 3,
   "metadata": {
    "collapsed": true
   },
   "outputs": [],
   "source": [
    "import random\n",
    "class Solution(object):\n",
    "\n",
    "    def __init__(self, nums):\n",
    "        \"\"\"\n",
    "        :type nums: List[int]\n",
    "        \"\"\"\n",
    "        self.nums=nums\n",
    "\n",
    "    def reset(self):\n",
    "        \"\"\"\n",
    "        Resets the array to its original configuration and return it.\n",
    "        :rtype: List[int]\n",
    "        \"\"\"\n",
    "        return self.nums\n",
    "\n",
    "    def shuffle(self):\n",
    "        \"\"\"\n",
    "        Returns a random shuffling of the array.\n",
    "        :rtype: List[int]\n",
    "        \"\"\"\n",
    "        res=self.nums[:]\n",
    "        for i in range(1,len(res)):\n",
    "            j=random.randint(0,i)\n",
    "            if i!=j:\n",
    "                t=res[i]\n",
    "                res[i]=res[j]\n",
    "                res[j]=t\n",
    "        return res\n",
    "\n",
    "\n",
    "# Your Solution object will be instantiated and called as such:\n",
    "# obj = Solution(nums)\n",
    "# param_1 = obj.reset()\n",
    "# param_2 = obj.shuffle()"
   ]
  },
  {
   "cell_type": "code",
   "execution_count": 41,
   "metadata": {
    "collapsed": true
   },
   "outputs": [],
   "source": [
    "import random\n",
    "class Solution(object):\n",
    "\n",
    "    def __init__(self, nums):\n",
    "        \"\"\"\n",
    "        :type nums: List[int]\n",
    "        \"\"\"\n",
    "        self.nums=nums\n",
    "\n",
    "    def reset(self):\n",
    "        \"\"\"\n",
    "        Resets the array to its original configuration and return it.\n",
    "        :rtype: List[int]\n",
    "        \"\"\"\n",
    "        return self.nums\n",
    "\n",
    "    def shuffle(self):\n",
    "        \"\"\"\n",
    "        Returns a random shuffling of the array.\n",
    "        :rtype: List[int]\n",
    "        \"\"\"\n",
    "        res=[]\n",
    "        for n in self.nums:\n",
    "            res.append(n)\n",
    "        \n",
    "        for i in range(1,len(self.nums)):\n",
    "            j=random.randint(0,i)\n",
    "            if i!=j:\n",
    "                t=self.nums[i]\n",
    "                self.nums[i]=self.nums[j]\n",
    "                self.nums[j]=t\n",
    "            \n",
    "        return res\n",
    "\n",
    "\n",
    "# Your Solution object will be instantiated and called as such:\n",
    "# obj = Solution(nums)\n",
    "# param_1 = obj.reset()\n",
    "# param_2 = obj.shuffle()"
   ]
  },
  {
   "cell_type": "code",
   "execution_count": 50,
   "metadata": {
    "collapsed": false
   },
   "outputs": [],
   "source": [
    "s=Solution([1,2,3,4,5])"
   ]
  },
  {
   "cell_type": "code",
   "execution_count": 56,
   "metadata": {
    "collapsed": false
   },
   "outputs": [
    {
     "data": {
      "text/plain": [
       "[4, 2, 5, 3, 1]"
      ]
     },
     "execution_count": 56,
     "metadata": {},
     "output_type": "execute_result"
    }
   ],
   "source": [
    "s.reset()"
   ]
  },
  {
   "cell_type": "code",
   "execution_count": 21,
   "metadata": {
    "collapsed": true
   },
   "outputs": [],
   "source": [
    "import pandas as pd"
   ]
  },
  {
   "cell_type": "code",
   "execution_count": 44,
   "metadata": {
    "collapsed": false
   },
   "outputs": [],
   "source": [
    "res=[[] for _ in range(5)]\n",
    "for i in range(10000):\n",
    "    t=s.shuffle()\n",
    "    for j in range(5):\n",
    "        res[j].append(t[j])\n",
    "    "
   ]
  },
  {
   "cell_type": "code",
   "execution_count": 33,
   "metadata": {
    "collapsed": true
   },
   "outputs": [],
   "source": [
    "a=[[1,1,2,2,3,3],[1,2,2],[3,3,1,1]]"
   ]
  },
  {
   "cell_type": "code",
   "execution_count": 29,
   "metadata": {
    "collapsed": false
   },
   "outputs": [],
   "source": [
    "import matplotlib.pyplot as plt\n",
    "%matplotlib inline"
   ]
  },
  {
   "cell_type": "code",
   "execution_count": 45,
   "metadata": {
    "collapsed": false
   },
   "outputs": [
    {
     "data": {
      "text/plain": [
       "([array([ 1941.,     0.,  2016.,     0.,     0.,  2057.,     0.,  1945.,\n",
       "             0.,  2041.]),\n",
       "  array([ 2040.,     0.,  1999.,     0.,     0.,  1979.,     0.,  1999.,\n",
       "             0.,  1983.]),\n",
       "  array([ 2010.,     0.,  1953.,     0.,     0.,  2039.,     0.,  1988.,\n",
       "             0.,  2010.]),\n",
       "  array([ 2027.,     0.,  2029.,     0.,     0.,  1947.,     0.,  2016.,\n",
       "             0.,  1981.]),\n",
       "  array([ 1982.,     0.,  2003.,     0.,     0.,  1978.,     0.,  2052.,\n",
       "             0.,  1985.])],\n",
       " array([ 1. ,  1.4,  1.8,  2.2,  2.6,  3. ,  3.4,  3.8,  4.2,  4.6,  5. ]),\n",
       " <a list of 5 Lists of Patches objects>)"
      ]
     },
     "execution_count": 45,
     "metadata": {},
     "output_type": "execute_result"
    },
    {
     "data": {
      "image/png": "[encoded data removed]",
      "text/plain": [
       "<matplotlib.figure.Figure at 0x113b42438>"
      ]
     },
     "metadata": {},
     "output_type": "display_data"
    }
   ],
   "source": [
    "plt.hist(res)"
   ]
  },
  {
   "cell_type": "code",
   "execution_count": null,
   "metadata": {
    "collapsed": true
   },
   "outputs": [],
   "source": []
  }
 ],
 "metadata": {
  "kernelspec": {
   "display_name": "Python [default]",
   "language": "python",
   "name": "python3"
  },
  "language_info": {
   "codemirror_mode": {
    "name": "ipython",
    "version": 3
   },
   "file_extension": ".py",
   "mimetype": "text/x-python",
   "name": "python",
   "nbconvert_exporter": "python",
   "pygments_lexer": "ipython3",
   "version": "3.5.2"
  }
 },
 "nbformat": 4,
 "nbformat_minor": 1
}
