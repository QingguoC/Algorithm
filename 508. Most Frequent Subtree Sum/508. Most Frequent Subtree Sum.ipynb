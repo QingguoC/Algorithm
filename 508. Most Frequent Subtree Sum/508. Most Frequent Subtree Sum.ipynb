{
 "cells": [
  {
   "cell_type": "markdown",
   "metadata": {},
   "source": [
    "Given the root of a tree, you are asked to find the most frequent subtree sum. The subtree sum of a node is defined as the sum of all the node values formed by the subtree rooted at that node (including the node itself). So what is the most frequent subtree sum value? If there is a tie, return all the values with the highest frequency in any order.\n",
    "\n",
    "Examples 1\n",
    "Input:\n",
    "\n",
    "  5\n",
    " /  \\\n",
    "2   -3\n",
    "return [2, -3, 4], since all the values happen only once, return all of them in any order.\n",
    "Examples 2\n",
    "Input:\n",
    "\n",
    "  5\n",
    " /  \\\n",
    "2   -5\n",
    "return [2], since 2 happens twice, however -5 only occur once.\n",
    "Note: You may assume the sum of values in any subtree is in the range of 32-bit signed integer."
   ]
  },
  {
   "cell_type": "code",
   "execution_count": 2,
   "metadata": {
    "collapsed": true
   },
   "outputs": [],
   "source": [
    "# Definition for a binary tree node.\n",
    "class TreeNode(object):\n",
    "    def __init__(self, x):\n",
    "        self.val = x\n",
    "        self.left = None\n",
    "        self.right = None\n",
    "\n",
    "class Solution(object):\n",
    "    def findFrequentTreeSum(self, root):\n",
    "        \"\"\"\n",
    "        :type root: TreeNode\n",
    "        :rtype: List[int]\n",
    "        \"\"\"\n",
    "        self.dic={}\n",
    "        self.mf=0\n",
    "        self.res=[]\n",
    "        self.helper(root)\n",
    "        return self.res\n",
    "        \n",
    "    def helper(self,root):\n",
    "        if not root:\n",
    "            return 0\n",
    "        s=root.val+self.helper(root.left)+self.helper(root.right)\n",
    "        if s not in self.dic:\n",
    "            self.dic[s]=1\n",
    "        else:\n",
    "            self.dic[s]+=1\n",
    "        if self.dic[s]>self.mf:\n",
    "            self.mf=self.dic[s]\n",
    "            self.res=[s]\n",
    "        elif self.dic[s]==self.mf:\n",
    "            self.res.append(s)\n",
    "        return s"
   ]
  },
  {
   "cell_type": "code",
   "execution_count": 5,
   "metadata": {
    "collapsed": true
   },
   "outputs": [],
   "source": [
    "sol=Solution()"
   ]
  },
  {
   "cell_type": "code",
   "execution_count": 7,
   "metadata": {
    "collapsed": false
   },
   "outputs": [
    {
     "data": {
      "text/plain": [
       "[2, -3, 4]"
      ]
     },
     "execution_count": 7,
     "metadata": {},
     "output_type": "execute_result"
    }
   ],
   "source": [
    "t1=TreeNode(5)\n",
    "t2=TreeNode(2)\n",
    "t3=TreeNode(-3)\n",
    "t1.left=t2\n",
    "t1.right=t3\n",
    "sol.findFrequentTreeSum(t1)"
   ]
  },
  {
   "cell_type": "markdown",
   "metadata": {},
   "source": []
  }
 ],
 "metadata": {
  "anaconda-cloud": {},
  "kernelspec": {
   "display_name": "Python [default]",
   "language": "python",
   "name": "python3"
  },
  "language_info": {
   "codemirror_mode": {
    "name": "ipython",
    "version": 3
   },
   "file_extension": ".py",
   "mimetype": "text/x-python",
   "name": "python",
   "nbconvert_exporter": "python",
   "pygments_lexer": "ipython3",
   "version": "3.5.2"
  }
 },
 "nbformat": 4,
 "nbformat_minor": 1
}
