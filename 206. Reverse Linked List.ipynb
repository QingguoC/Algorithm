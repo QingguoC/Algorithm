{
 "cells": [
  {
   "cell_type": "markdown",
   "metadata": {},
   "source": [
    "Reverse a singly linked list."
   ]
  },
  {
   "cell_type": "code",
   "execution_count": 2,
   "metadata": {
    "collapsed": false
   },
   "outputs": [
    {
     "name": "stdout",
     "output_type": "stream",
     "text": [
      "->3\n",
      "->3\n"
     ]
    }
   ],
   "source": [
    "\n",
    "class ListNode(object):\n",
    "    def __init__(self, x):\n",
    "        self.val = x\n",
    "        self.next = None\n",
    "        \n",
    "class Solution(object):\n",
    "    def reverseList(self, head):\n",
    "        \"\"\"\n",
    "        :type head: ListNode\n",
    "        :rtype: ListNode\n",
    "        \"\"\"\n",
    "        if head==None or head.next==None:\n",
    "            return head\n",
    "        dummy=ListNode(0)\n",
    "        dummy.next=head\n",
    "        p=head\n",
    "        while head.next:\n",
    "            temp=dummy.next\n",
    "            dummy.next=head.next\n",
    "            head.next=dummy.next.next\n",
    "            dummy.next.next=temp\n",
    "        return dummy.next\n",
    "    def printNode(self, head):\n",
    "        p=head\n",
    "        s=\"\"\n",
    "        while p: \n",
    "            s=s+\"->\"+str(p.val)\n",
    "            p=p.next\n",
    "        print(s)\n",
    "        \n",
    "a0=ListNode(0)\n",
    "a1=ListNode(1) \n",
    "a2=ListNode(2)\n",
    "a3=ListNode(3)\n",
    "a0.next=a1\n",
    "a1.next=a2\n",
    "a2.next=a3\n",
    "s1=Solution()\n",
    "s1.printNode(a3)\n",
    "s1.printNode(s1.reverseList(a3))"
   ]
  },
  {
   "cell_type": "code",
   "execution_count": null,
   "metadata": {
    "collapsed": true
   },
   "outputs": [],
   "source": []
  },
  {
   "cell_type": "code",
   "execution_count": 2,
   "metadata": {
    "collapsed": true
   },
   "outputs": [],
   "source": [
    "\n",
    "class ListNode(object):\n",
    "    def __init__(self, x):\n",
    "        self.val = x\n",
    "        self.next = None\n",
    "        \n",
    "class Solution(object):\n",
    "    def reverseList(self, head):\n",
    "        \"\"\"\n",
    "        :type head: ListNode\n",
    "        :rtype: ListNode\n",
    "        \"\"\"\n",
    "        \n",
    "        if not head or not head.next:\n",
    "            return head\n",
    "        dummy=ListNode(0)\n",
    "        dummy.next=head\n",
    "        h= head.next\n",
    "        head.next=None\n",
    "        while h:\n",
    "            temp=h\n",
    "            h=h.next\n",
    "            temp.next=dummy.next\n",
    "            dummy.next=temp\n",
    "        return dummy.next\n",
    "    def printNode(self, head):\n",
    "        p=head\n",
    "        s=\"\"\n",
    "        while p: \n",
    "            s=s+\"->\"+str(p.val)\n",
    "            p=p.next\n",
    "        print(s)            \n",
    "            \n",
    "            \n",
    "            "
   ]
  },
  {
   "cell_type": "code",
   "execution_count": 4,
   "metadata": {
    "collapsed": false
   },
   "outputs": [
    {
     "name": "stdout",
     "output_type": "stream",
     "text": [
      "->1->2->3\n",
      "->3->2->1\n"
     ]
    }
   ],
   "source": [
    "a0=ListNode(0)\n",
    "a1=ListNode(1) \n",
    "a2=ListNode(2)\n",
    "a3=ListNode(3)\n",
    "a0.next=a1\n",
    "a1.next=a2\n",
    "a2.next=a3\n",
    "s1=Solution()\n",
    "s1.printNode(a1)\n",
    "s1.printNode(s1.reverseList(a1))"
   ]
  },
  {
   "cell_type": "code",
   "execution_count": null,
   "metadata": {
    "collapsed": true
   },
   "outputs": [],
   "source": []
  }
 ],
 "metadata": {
  "kernelspec": {
   "display_name": "Python [default]",
   "language": "python",
   "name": "python3"
  },
  "language_info": {
   "codemirror_mode": {
    "name": "ipython",
    "version": 3
   },
   "file_extension": ".py",
   "mimetype": "text/x-python",
   "name": "python",
   "nbconvert_exporter": "python",
   "pygments_lexer": "ipython3",
   "version": "3.5.2"
  }
 },
 "nbformat": 4,
 "nbformat_minor": 0
}
