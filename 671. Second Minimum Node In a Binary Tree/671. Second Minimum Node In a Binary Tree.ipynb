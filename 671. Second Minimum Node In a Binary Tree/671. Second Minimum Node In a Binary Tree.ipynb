{
 "cells": [
  {
   "cell_type": "markdown",
   "metadata": {},
   "source": [
    "Given a non-empty special binary tree consisting of nodes with the non-negative value, where each node in this tree has exactly two or zero sub-node. If the node has two sub-nodes, then this node's value is the smaller value among its two sub-nodes.\n",
    "\n",
    "Given such a binary tree, you need to output the second minimum value in the set made of all the nodes' value in the whole tree.\n",
    "\n",
    "If no such second minimum value exists, output -1 instead.\n",
    "\n",
    "Example 1:\n",
    "Input: \n",
    "    2\n",
    "   / \\\n",
    "  2   5\n",
    "     / \\\n",
    "    5   7\n",
    "\n",
    "Output: 5\n",
    "Explanation: The smallest value is 2, the second smallest value is 5.\n",
    "Example 2:\n",
    "Input: \n",
    "    2\n",
    "   / \\\n",
    "  2   2\n",
    "\n",
    "Output: -1\n",
    "Explanation: The smallest value is 2, but there isn't any second smallest value."
   ]
  },
  {
   "cell_type": "code",
   "execution_count": 2,
   "metadata": {
    "collapsed": true
   },
   "outputs": [],
   "source": [
    "# Definition for a binary tree node.\n",
    "class TreeNode(object):\n",
    "    def __init__(self, x):\n",
    "        self.val = x\n",
    "        self.left = None\n",
    "        self.right = None\n",
    "\n",
    "class Solution(object):\n",
    "    def findSecondMinimumValue(self, root):\n",
    "        \"\"\"\n",
    "        :type root: TreeNode\n",
    "        :rtype: int\n",
    "        \"\"\"\n",
    "        if not root:\n",
    "            return -1\n",
    "        self.ref=root.val\n",
    "        self.res=-1\n",
    "        self.helper(root)\n",
    "        return self.res\n",
    "    def helper(self,root):\n",
    "        \n",
    "        if root.left and root.left.val == self.ref:\n",
    "            self.helper(root.left)\n",
    "        elif root.left and root.left.val !=self.ref:\n",
    "            if self.res == -1:\n",
    "                self.res = root.left.val\n",
    "            else:\n",
    "                self.res = min(self.res,root.left.val)\n",
    "        if root.right and root.right.val == self.ref:\n",
    "            self.helper(root.right)\n",
    "        elif root.right and root.right.val != self.ref:\n",
    "            if self.res == -1:\n",
    "                self.res = root.right.val\n",
    "            else:\n",
    "                self.res = min(self.res,root.right.val)\n",
    "        \n",
    "        "
   ]
  },
  {
   "cell_type": "code",
   "execution_count": 3,
   "metadata": {
    "collapsed": true
   },
   "outputs": [],
   "source": [
    "t1 = TreeNode(2)\n",
    "t2 = TreeNode(2)\n",
    "t3 = TreeNode(2)\n",
    "t1.left = t2\n",
    "t1.right = t3"
   ]
  },
  {
   "cell_type": "code",
   "execution_count": 4,
   "metadata": {
    "collapsed": true
   },
   "outputs": [],
   "source": [
    "sol = Solution()"
   ]
  },
  {
   "cell_type": "code",
   "execution_count": 5,
   "metadata": {
    "collapsed": false
   },
   "outputs": [
    {
     "data": {
      "text/plain": [
       "-1"
      ]
     },
     "execution_count": 5,
     "metadata": {},
     "output_type": "execute_result"
    }
   ],
   "source": [
    "sol.findSecondMinimumValue(t1)"
   ]
  },
  {
   "cell_type": "code",
   "execution_count": 6,
   "metadata": {
    "collapsed": true
   },
   "outputs": [],
   "source": [
    "t1 = TreeNode(2)\n",
    "t2 = TreeNode(2)\n",
    "t3 = TreeNode(5)\n",
    "t4 = TreeNode(5)\n",
    "t5 = TreeNode(7)\n",
    "t1.left = t2\n",
    "t1.right = t3\n",
    "t3.left = t4\n",
    "t3.right = t5"
   ]
  },
  {
   "cell_type": "code",
   "execution_count": 7,
   "metadata": {
    "collapsed": false
   },
   "outputs": [
    {
     "data": {
      "text/plain": [
       "5"
      ]
     },
     "execution_count": 7,
     "metadata": {},
     "output_type": "execute_result"
    }
   ],
   "source": [
    "sol.findSecondMinimumValue(t1)"
   ]
  },
  {
   "cell_type": "code",
   "execution_count": null,
   "metadata": {
    "collapsed": true
   },
   "outputs": [],
   "source": []
  }
 ],
 "metadata": {
  "anaconda-cloud": {},
  "kernelspec": {
   "display_name": "Python [default]",
   "language": "python",
   "name": "python3"
  },
  "language_info": {
   "codemirror_mode": {
    "name": "ipython",
    "version": 3
   },
   "file_extension": ".py",
   "mimetype": "text/x-python",
   "name": "python",
   "nbconvert_exporter": "python",
   "pygments_lexer": "ipython3",
   "version": "3.5.2"
  }
 },
 "nbformat": 4,
 "nbformat_minor": 1
}
