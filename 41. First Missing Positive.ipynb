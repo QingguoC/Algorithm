{
 "cells": [
  {
   "cell_type": "markdown",
   "metadata": {},
   "source": [
    "Given an unsorted integer array, find the first missing positive integer.\n",
    "\n",
    "For example,\n",
    "Given [1,2,0] return 3,\n",
    "and [3,4,-1,1] return 2.\n",
    "\n",
    "Your algorithm should run in O(n) time and uses constant space."
   ]
  },
  {
   "cell_type": "code",
   "execution_count": 6,
   "metadata": {
    "collapsed": false
   },
   "outputs": [
    {
     "name": "stdout",
     "output_type": "stream",
     "text": [
      "2\n"
     ]
    }
   ],
   "source": [
    "class Solution(object):\n",
    "    def firstMissingPositive(self, nums):\n",
    "        \"\"\"\n",
    "        :type nums: List[int]\n",
    "        :rtype: int\n",
    "        \"\"\"\n",
    "        if nums==None or len(nums)==0:\n",
    "            return 1\n",
    "        n=len(nums)\n",
    "        ne=False\n",
    "        for i in range(n):\n",
    "            if nums[i]<0 or nums[i]>n:\n",
    "                nums[i]=0\n",
    "            if nums[i]==n:\n",
    "                ne=True\n",
    "        for i in range(n):\n",
    "            nums[nums[i]%n]+=n\n",
    "        for i in range(1,n):\n",
    "            if nums[i]/n==0:\n",
    "                return i\n",
    "        if ne: return n+1\n",
    "        return n\n",
    "s1=Solution()\n",
    "nums=[1,1]\n",
    "print(s1.firstMissingPositive(nums))"
   ]
  },
  {
   "cell_type": "code",
   "execution_count": null,
   "metadata": {
    "collapsed": true
   },
   "outputs": [],
   "source": []
  },
  {
   "cell_type": "code",
   "execution_count": null,
   "metadata": {
    "collapsed": true
   },
   "outputs": [],
   "source": []
  },
  {
   "cell_type": "code",
   "execution_count": null,
   "metadata": {
    "collapsed": true
   },
   "outputs": [],
   "source": []
  },
  {
   "cell_type": "code",
   "execution_count": null,
   "metadata": {
    "collapsed": true
   },
   "outputs": [],
   "source": []
  },
  {
   "cell_type": "code",
   "execution_count": null,
   "metadata": {
    "collapsed": true
   },
   "outputs": [],
   "source": []
  },
  {
   "cell_type": "markdown",
   "metadata": {},
   "source": [
    "len(nums) = n, missing range is 1 to n\n",
    "change all below 0 or bigger than n to 0\n",
    "all left are in range\n",
    "when i appears, add n to nums[i], scan for which index , nums[index] below n . That's the missing value "
   ]
  }
 ],
 "metadata": {
  "kernelspec": {
   "display_name": "Python 3",
   "language": "python",
   "name": "python3"
  },
  "language_info": {
   "codemirror_mode": {
    "name": "ipython",
    "version": 3
   },
   "file_extension": ".py",
   "mimetype": "text/x-python",
   "name": "python",
   "nbconvert_exporter": "python",
   "pygments_lexer": "ipython3",
   "version": "3.5.1"
  }
 },
 "nbformat": 4,
 "nbformat_minor": 0
}
