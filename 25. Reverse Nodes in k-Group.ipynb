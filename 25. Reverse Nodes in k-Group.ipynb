{
 "cells": [
  {
   "cell_type": "markdown",
   "metadata": {},
   "source": [
    "25. Reverse Nodes in k-Group\n",
    "Given a linked list, reverse the nodes of a linked list k at a time and return its modified list.\n",
    "\n",
    "If the number of nodes is not a multiple of k then left-out nodes in the end should remain as it is.\n",
    "\n",
    "You may not alter the values in the nodes, only nodes itself may be changed.\n",
    "\n",
    "Only constant memory is allowed.\n",
    "\n",
    "For example,\n",
    "Given this linked list: 1->2->3->4->5\n",
    "\n",
    "For k = 2, you should return: 2->1->4->3->5\n",
    "\n",
    "For k = 3, you should return: 3->2->1->4->5\n",
    "\n"
   ]
  },
  {
   "cell_type": "code",
   "execution_count": 3,
   "metadata": {
    "collapsed": false
   },
   "outputs": [
    {
     "name": "stdout",
     "output_type": "stream",
     "text": [
      "1->2->3->4->5->\n",
      "3->2->1->4->5->\n"
     ]
    }
   ],
   "source": [
    "class ListNode(object):\n",
    "    def __init__(self, x):\n",
    "        self.val = x\n",
    "        self.next = None\n",
    "        \n",
    "class Solution(object):\n",
    "    def reverseKGroup(self, head, k):\n",
    "        \"\"\"\n",
    "        :type head: ListNode\n",
    "        :type k: int\n",
    "        :rtype: ListNode\n",
    "        \"\"\"\n",
    "        if head==None:\n",
    "            return head\n",
    "        dummy=ListNode(0)\n",
    "        dummy.next=head\n",
    "        start=dummy\n",
    "        \n",
    "        while start.next:\n",
    "            \n",
    "            end=start\n",
    "            for i in range(k-1):\n",
    "                \n",
    "                end=end.next\n",
    "                if end.next==None: \n",
    "                    return dummy.next\n",
    "            temp=self.reverse(start.next,end.next)\n",
    "            start.next=temp[0]\n",
    "            start=temp[1]\n",
    "        return dummy.next\n",
    "                \n",
    "                \n",
    "        \n",
    "    def reverse(self, head,tail):\n",
    "        dummy=ListNode(0)\n",
    "        dummy.next=head\n",
    "        while dummy.next!=tail:\n",
    "            temp=head.next\n",
    "            head.next=temp.next\n",
    "            temp.next=dummy.next\n",
    "            dummy.next=temp\n",
    "        return [tail,head]\n",
    "        \n",
    "def printL(head):\n",
    "        p=head\n",
    "        s=''\n",
    "        while(p):\n",
    "            s=s+str(p.val)+'->'\n",
    "            p=p.next\n",
    "        print(s)\n",
    "        \n",
    "ln1=ListNode(1)\n",
    "ln2=ListNode(2)\n",
    "ln3=ListNode(3)\n",
    "ln4=ListNode(4)\n",
    "ln5=ListNode(5)\n",
    "\n",
    "ln1.next=ln2\n",
    "ln2.next=ln3\n",
    "ln3.next=ln4\n",
    "ln4.next=ln5\n",
    "s1=Solution()\n",
    "\n",
    "printL(ln1)\n",
    "printL(s1.reverseKGroup(ln1,3))"
   ]
  },
  {
   "cell_type": "code",
   "execution_count": null,
   "metadata": {
    "collapsed": true
   },
   "outputs": [],
   "source": []
  },
  {
   "cell_type": "code",
   "execution_count": null,
   "metadata": {
    "collapsed": true
   },
   "outputs": [],
   "source": []
  },
  {
   "cell_type": "code",
   "execution_count": null,
   "metadata": {
    "collapsed": true
   },
   "outputs": [],
   "source": []
  },
  {
   "cell_type": "code",
   "execution_count": null,
   "metadata": {
    "collapsed": true
   },
   "outputs": [],
   "source": []
  },
  {
   "cell_type": "code",
   "execution_count": null,
   "metadata": {
    "collapsed": true
   },
   "outputs": [],
   "source": []
  },
  {
   "cell_type": "code",
   "execution_count": null,
   "metadata": {
    "collapsed": true
   },
   "outputs": [],
   "source": []
  },
  {
   "cell_type": "code",
   "execution_count": 3,
   "metadata": {
    "collapsed": false
   },
   "outputs": [
    {
     "name": "stdout",
     "output_type": "stream",
     "text": [
      "0\n"
     ]
    }
   ],
   "source": [
    "print(8%4)"
   ]
  },
  {
   "cell_type": "code",
   "execution_count": 4,
   "metadata": {
    "collapsed": false
   },
   "outputs": [
    {
     "name": "stdout",
     "output_type": "stream",
     "text": [
      "-2\n"
     ]
    }
   ],
   "source": [
    "i=100\n",
    "while i>0:\n",
    "    i-=1\n",
    "    for t in range(10):\n",
    "        i-=1\n",
    "        if t==1:\n",
    "            break\n",
    "print(i)"
   ]
  },
  {
   "cell_type": "code",
   "execution_count": null,
   "metadata": {
    "collapsed": true
   },
   "outputs": [],
   "source": [
    "def printL(head):\n",
    "        p=head\n",
    "        s=''\n",
    "        while(p):\n",
    "            s=s+str(p.val)+'->'\n",
    "            p=p.next\n",
    "        print(s)\n",
    "        \n",
    "ln1=ListNode(1)\n",
    "ln2=ListNode(2)\n",
    "ln3=ListNode(3)\n",
    "ln4=ListNode(4)\n",
    "ln5=ListNode(5)\n",
    "\n",
    "ln1.next=ln3\n",
    "ln3.next=ln5\n",
    "ln2.next=ln4"
   ]
  },
  {
   "cell_type": "code",
   "execution_count": null,
   "metadata": {
    "collapsed": true
   },
   "outputs": [],
   "source": []
  }
 ],
 "metadata": {
  "kernelspec": {
   "display_name": "Python 3",
   "language": "python",
   "name": "python3"
  },
  "language_info": {
   "codemirror_mode": {
    "name": "ipython",
    "version": 3
   },
   "file_extension": ".py",
   "mimetype": "text/x-python",
   "name": "python",
   "nbconvert_exporter": "python",
   "pygments_lexer": "ipython3",
   "version": "3.5.1"
  }
 },
 "nbformat": 4,
 "nbformat_minor": 0
}
