{
 "cells": [
  {
   "cell_type": "markdown",
   "metadata": {},
   "source": [
    "Given a pattern and a string str, find if str follows the same pattern.\n",
    "\n",
    "Here follow means a full match, such that there is a bijection between a letter in pattern and a non-empty word in str.\n",
    "\n",
    "Examples:\n",
    "pattern = \"abba\", str = \"dog cat cat dog\" should return true.\n",
    "pattern = \"abba\", str = \"dog cat cat fish\" should return false.\n",
    "pattern = \"aaaa\", str = \"dog cat cat dog\" should return false.\n",
    "pattern = \"abba\", str = \"dog dog dog dog\" should return false.\n",
    "Notes:\n",
    "You may assume pattern contains only lowercase letters, and str contains lowercase letters separated by a single space.\n",
    "\n",
    "Credits:"
   ]
  },
  {
   "cell_type": "code",
   "execution_count": 6,
   "metadata": {
    "collapsed": true
   },
   "outputs": [],
   "source": [
    "class Solution(object):\n",
    "    def wordPattern(self, pattern, str):\n",
    "        \"\"\"\n",
    "        :type pattern: str\n",
    "        :type str: str\n",
    "        :rtype: bool\n",
    "        \"\"\"\n",
    "        sl=str.split()\n",
    "        if len(pattern)!=len(sl):\n",
    "            return False\n",
    "        dic1={}\n",
    "        dic2={}\n",
    "        for i in range(len(pattern)):\n",
    "            if pattern[i] not in dic1 and sl[i] not in dic2:\n",
    "                dic1[pattern[i]]=sl[i]\n",
    "                dic2[sl[i]]=pattern[i]\n",
    "            if pattern[i] in dic1 and sl[i] in dic2 and dic1[pattern[i]]==sl[i] and dic2[sl[i]]==pattern[i] :\n",
    "                continue\n",
    "            else:\n",
    "                return False\n",
    "        return True\n",
    "                "
   ]
  },
  {
   "cell_type": "code",
   "execution_count": 7,
   "metadata": {
    "collapsed": true
   },
   "outputs": [],
   "source": [
    "s=Solution()"
   ]
  },
  {
   "cell_type": "code",
   "execution_count": 10,
   "metadata": {
    "collapsed": false
   },
   "outputs": [
    {
     "data": {
      "text/plain": [
       "False"
      ]
     },
     "execution_count": 10,
     "metadata": {},
     "output_type": "execute_result"
    }
   ],
   "source": [
    "s.wordPattern(\"aaaa\",\"dog cat cat fish\")"
   ]
  },
  {
   "cell_type": "code",
   "execution_count": null,
   "metadata": {
    "collapsed": true
   },
   "outputs": [],
   "source": []
  }
 ],
 "metadata": {
  "anaconda-cloud": {},
  "kernelspec": {
   "display_name": "Python [default]",
   "language": "python",
   "name": "python3"
  },
  "language_info": {
   "codemirror_mode": {
    "name": "ipython",
    "version": 3
   },
   "file_extension": ".py",
   "mimetype": "text/x-python",
   "name": "python",
   "nbconvert_exporter": "python",
   "pygments_lexer": "ipython3",
   "version": "3.5.2"
  }
 },
 "nbformat": 4,
 "nbformat_minor": 1
}
