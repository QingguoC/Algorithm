{
 "cells": [
  {
   "cell_type": "markdown",
   "metadata": {},
   "source": [
    "Given a binary tree, check whether it is a mirror of itself (ie, symmetric around its center).\n",
    "\n",
    "For example, this binary tree [1,2,2,3,4,4,3] is symmetric:\n",
    "\n",
    "    1\n",
    "   / \\\n",
    "  2   2\n",
    " / \\ / \\\n",
    "3  4 4  3\n",
    "But the following [1,2,2,null,3,null,3] is not:\n",
    "    1\n",
    "   / \\\n",
    "  2   2\n",
    "   \\   \\\n",
    "   3    3\n",
    "Note:\n",
    "Bonus points if you could solve it both recursively and iteratively.\n"
   ]
  },
  {
   "cell_type": "code",
   "execution_count": 36,
   "metadata": {
    "collapsed": true
   },
   "outputs": [],
   "source": [
    "class TreeNode(object):\n",
    "    def __init__(self,x):\n",
    "        self.val=x\n",
    "        self.left=None\n",
    "        self.right=None\n",
    "class Solution(object):\n",
    "    def isSymmetric(self, root):\n",
    "        \"\"\"\n",
    "        :type root: TreeNode\n",
    "        :rtype: bool\n",
    "        \"\"\"\n",
    "        self.toStr=\"\"\n",
    "        self.inorder(root)\n",
    "        print(self.toStr)\n",
    "        return self.toStr==self.toStr[::-1]\n",
    "        \n",
    "    def inorder(self,root):\n",
    "        if not root:\n",
    "            self.toStr+=\"$\"\n",
    "            return\n",
    "        if not root.left and not root.right:\n",
    "            self.toStr+=str(root.val)\n",
    "            return\n",
    "        self.inorder(root.left)\n",
    "        \n",
    "        self.toStr+=str(root.val)\n",
    "        self.inorder(root.right)\n",
    "        return\n",
    "    \n",
    "        "
   ]
  },
  {
   "cell_type": "code",
   "execution_count": 31,
   "metadata": {
    "collapsed": true
   },
   "outputs": [],
   "source": [
    "#[5,4,1,null,1,null,4,2,null,2,null]\n",
    "n1=TreeNode(5)\n",
    "n2=TreeNode(4)\n",
    "n3=TreeNode(1)\n",
    "n1.left=n2\n",
    "n1.right=n3\n",
    "n5=TreeNode(1)\n",
    "n6=TreeNode(4)\n",
    "n2.right=n5\n",
    "n3.right=n6\n",
    "n7=TreeNode(2)\n",
    "n8=TreeNode(2)\n",
    "n5.left=n7\n",
    "n6.left=n8"
   ]
  },
  {
   "cell_type": "code",
   "execution_count": 12,
   "metadata": {
    "collapsed": false
   },
   "outputs": [
    {
     "data": {
      "text/plain": [
       "True"
      ]
     },
     "execution_count": 12,
     "metadata": {},
     "output_type": "execute_result"
    }
   ],
   "source": [
    "\"aeb\"==\"ae\"+\"b\""
   ]
  },
  {
   "cell_type": "code",
   "execution_count": 54,
   "metadata": {
    "collapsed": true
   },
   "outputs": [],
   "source": [
    "s=Solution()"
   ]
  },
  {
   "cell_type": "code",
   "execution_count": 59,
   "metadata": {
    "collapsed": false
   },
   "outputs": [
    {
     "data": {
      "text/plain": [
       "False"
      ]
     },
     "execution_count": 59,
     "metadata": {},
     "output_type": "execute_result"
    }
   ],
   "source": [
    "s.isSymmetric(n1)"
   ]
  },
  {
   "cell_type": "code",
   "execution_count": 53,
   "metadata": {
    "collapsed": false
   },
   "outputs": [],
   "source": [
    "class TreeNode(object):\n",
    "    def __init__(self,x):\n",
    "        self.val=x\n",
    "        self.left=None\n",
    "        self.right=None\n",
    "class Solution(object):\n",
    "    def isSymmetric(self, root):\n",
    "        \"\"\"\n",
    "        :type root: TreeNode\n",
    "        :rtype: bool\n",
    "        \"\"\"\n",
    "        return self.helper(root,root)\n",
    "    def helper(self,ln,rn):\n",
    "        if not ln and not rn:\n",
    "            return True\n",
    "        if not ln or not rn:\n",
    "            return False\n",
    "        return ln.val==rn.val and self.helper(ln.left,rn.right) and self.helper(ln.right,rn.left)"
   ]
  },
  {
   "cell_type": "raw",
   "metadata": {},
   "source": []
  },
  {
   "cell_type": "code",
   "execution_count": 58,
   "metadata": {
    "collapsed": true
   },
   "outputs": [],
   "source": [
    "n1=TreeNode(2)\n",
    "n2=TreeNode(3)\n",
    "n3=TreeNode(3)\n",
    "n1.left=n2\n",
    "n1.right=n3\n",
    "n5=TreeNode(4)\n",
    "n6=TreeNode(5)\n",
    "n2.left=n5\n",
    "n2.right=n6\n",
    "n7=TreeNode(4)\n",
    "n3.right=n7\n",
    "#n3.left=TreeNode(5)"
   ]
  },
  {
   "cell_type": "code",
   "execution_count": 27,
   "metadata": {
    "collapsed": true
   },
   "outputs": [],
   "source": [
    "def notTr(x):\n",
    "    print(x)\n",
    "    return x>0"
   ]
  },
  {
   "cell_type": "code",
   "execution_count": 30,
   "metadata": {
    "collapsed": false
   },
   "outputs": [
    {
     "name": "stdout",
     "output_type": "stream",
     "text": [
      "3\n"
     ]
    },
    {
     "data": {
      "text/plain": [
       "True"
      ]
     },
     "execution_count": 30,
     "metadata": {},
     "output_type": "execute_result"
    }
   ],
   "source": [
    "True and notTr(3)"
   ]
  },
  {
   "cell_type": "code",
   "execution_count": null,
   "metadata": {
    "collapsed": true
   },
   "outputs": [],
   "source": []
  },
  {
   "cell_type": "markdown",
   "metadata": {},
   "source": []
  }
 ],
 "metadata": {
  "anaconda-cloud": {},
  "kernelspec": {
   "display_name": "Python [default]",
   "language": "python",
   "name": "python3"
  },
  "language_info": {
   "codemirror_mode": {
    "name": "ipython",
    "version": 3
   },
   "file_extension": ".py",
   "mimetype": "text/x-python",
   "name": "python",
   "nbconvert_exporter": "python",
   "pygments_lexer": "ipython3",
   "version": "3.5.2"
  }
 },
 "nbformat": 4,
 "nbformat_minor": 1
}
