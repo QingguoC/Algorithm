{
 "cells": [
  {
   "cell_type": "markdown",
   "metadata": {},
   "source": [
    "Given the coordinates of four points in 2D space, return whether the four points could construct a square.\n",
    "\n",
    "The coordinate (x,y) of a point is represented by an integer array with two integers.\n",
    "\n",
    "Example:\n",
    "Input: p1 = [0,0], p2 = [1,1], p3 = [1,0], p4 = [0,1]\n",
    "Output: True\n",
    "Note:\n",
    "\n",
    "All the input integers are in the range [-10000, 10000].\n",
    "A valid square has four equal sides with positive length and four equal angles (90-degree angles).\n",
    "Input points have no order."
   ]
  },
  {
   "cell_type": "code",
   "execution_count": 20,
   "metadata": {
    "collapsed": true
   },
   "outputs": [],
   "source": [
    "class Solution(object):\n",
    "    def validSquare(self, p1, p2, p3, p4):\n",
    "        \"\"\"\n",
    "        :type p1: List[int]\n",
    "        :type p2: List[int]\n",
    "        :type p3: List[int]\n",
    "        :type p4: List[int]\n",
    "        :rtype: bool\n",
    "        \"\"\"\n",
    "        \n",
    "        Ls=[]\n",
    "        Ls.append(self.length(p1,p2))\n",
    "        if Ls[0]==0:\n",
    "            return False\n",
    "        Ls.append(self.length(p1,p3))\n",
    "\n",
    "        Ls.append(self.length(p1,p4))\n",
    "        Ls.append(self.length(p2,p3))\n",
    "        Ls.append(self.length(p2,p4))\n",
    "        Ls.append(self.length(p3,p4))\n",
    "        Ls.sort()\n",
    "        \n",
    "        if Ls[0]==Ls[1] and Ls[0]==Ls[2] and Ls[0]==Ls[3] and Ls[4]==Ls[5] and 2*Ls[0]==Ls[4]:\n",
    "            return True\n",
    "        else:\n",
    "            return False\n",
    "            \n",
    "                        \n",
    "        \n",
    "        \n",
    "    def length(self,p1,p2):\n",
    "        return ((p1[0]-p2[0])**2+(p1[1]-p2[1])**2)"
   ]
  },
  {
   "cell_type": "code",
   "execution_count": 5,
   "metadata": {
    "collapsed": true
   },
   "outputs": [],
   "source": [
    "ls=[3,1,2]"
   ]
  },
  {
   "cell_type": "code",
   "execution_count": 6,
   "metadata": {
    "collapsed": true
   },
   "outputs": [],
   "source": [
    "ls.sort()"
   ]
  },
  {
   "cell_type": "code",
   "execution_count": 7,
   "metadata": {
    "collapsed": false
   },
   "outputs": [
    {
     "data": {
      "text/plain": [
       "[1, 2, 3]"
      ]
     },
     "execution_count": 7,
     "metadata": {},
     "output_type": "execute_result"
    }
   ],
   "source": [
    "ls"
   ]
  },
  {
   "cell_type": "code",
   "execution_count": 22,
   "metadata": {
    "collapsed": true
   },
   "outputs": [],
   "source": [
    "s=Solution()"
   ]
  },
  {
   "cell_type": "code",
   "execution_count": 23,
   "metadata": {
    "collapsed": false
   },
   "outputs": [
    {
     "data": {
      "text/plain": [
       "True"
      ]
     },
     "execution_count": 23,
     "metadata": {},
     "output_type": "execute_result"
    }
   ],
   "source": [
    "s.validSquare([0,1],[0,0],[1,1],[1,0])"
   ]
  },
  {
   "cell_type": "code",
   "execution_count": 11,
   "metadata": {
    "collapsed": false
   },
   "outputs": [
    {
     "data": {
      "text/plain": [
       "1.0"
      ]
     },
     "execution_count": 11,
     "metadata": {},
     "output_type": "execute_result"
    }
   ],
   "source": [
    "s.length([0,1],[0,0])"
   ]
  },
  {
   "cell_type": "code",
   "execution_count": 12,
   "metadata": {
    "collapsed": false
   },
   "outputs": [
    {
     "data": {
      "text/plain": [
       "1.0"
      ]
     },
     "execution_count": 12,
     "metadata": {},
     "output_type": "execute_result"
    }
   ],
   "source": [
    "s.length([0,1],[1,1])"
   ]
  },
  {
   "cell_type": "code",
   "execution_count": 19,
   "metadata": {
    "collapsed": false
   },
   "outputs": [
    {
     "data": {
      "text/plain": [
       "False"
      ]
     },
     "execution_count": 19,
     "metadata": {},
     "output_type": "execute_result"
    }
   ],
   "source": [
    "s.length([0,1],[1,0])**2==2*s.length([0,1],[1,1])**2"
   ]
  },
  {
   "cell_type": "code",
   "execution_count": null,
   "metadata": {
    "collapsed": true
   },
   "outputs": [],
   "source": []
  },
  {
   "cell_type": "code",
   "execution_count": null,
   "metadata": {
    "collapsed": true
   },
   "outputs": [],
   "source": []
  }
 ],
 "metadata": {
  "kernelspec": {
   "display_name": "Python [default]",
   "language": "python",
   "name": "python3"
  },
  "language_info": {
   "codemirror_mode": {
    "name": "ipython",
    "version": 3
   },
   "file_extension": ".py",
   "mimetype": "text/x-python",
   "name": "python",
   "nbconvert_exporter": "python",
   "pygments_lexer": "ipython3",
   "version": "3.5.2"
  }
 },
 "nbformat": 4,
 "nbformat_minor": 1
}
