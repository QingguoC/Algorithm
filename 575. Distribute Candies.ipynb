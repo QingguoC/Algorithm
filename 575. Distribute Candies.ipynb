{
 "cells": [
  {
   "cell_type": "markdown",
   "metadata": {},
   "source": [
    "Given an integer array with even length, where different numbers in this array represent different kinds of candies. Each number means one candy of the corresponding kind. You need to distribute these candies equally in number to brother and sister. Return the maximum number of kinds of candies the sister could gain.\n",
    "\n",
    "Example 1:\n",
    "Input: candies = [1,1,2,2,3,3]\n",
    "Output: 3\n",
    "Explanation:\n",
    "There are three different kinds of candies (1, 2 and 3), and two candies for each kind.\n",
    "Optimal distribution: The sister has candies [1,2,3] and the brother has candies [1,2,3], too. \n",
    "The sister has three different kinds of candies. \n",
    "Example 2:\n",
    "Input: candies = [1,1,2,3]\n",
    "Output: 2\n",
    "Explanation: For example, the sister has candies [2,3] and the brother has candies [1,1]. \n",
    "The sister has two different kinds of candies, the brother has only one kind of candies. \n",
    "Note:\n",
    "\n",
    "The length of the given array is in range [2, 10,000], and will be even.\n",
    "The number in given array is in range [-100,000, 100,000]."
   ]
  },
  {
   "cell_type": "code",
   "execution_count": 9,
   "metadata": {
    "collapsed": false
   },
   "outputs": [],
   "source": [
    "class Solution(object):\n",
    "    def distributeCandies(self, candies):\n",
    "        \"\"\"\n",
    "        :type candies: List[int]\n",
    "        :rtype: int\n",
    "        \"\"\"\n",
    "        n=len(candies)\n",
    "        nkinds={}\n",
    "        for i in range(n):\n",
    "            if candies[i] not in nkinds:\n",
    "                nkinds[candies[i]]=1\n",
    "        return min(int(n/2),len(nkinds))\n",
    "                "
   ]
  },
  {
   "cell_type": "code",
   "execution_count": 4,
   "metadata": {
    "collapsed": true
   },
   "outputs": [],
   "source": [
    "nkinds={1:2,2:3,3:2}"
   ]
  },
  {
   "cell_type": "code",
   "execution_count": 5,
   "metadata": {
    "collapsed": false
   },
   "outputs": [
    {
     "data": {
      "text/plain": [
       "3"
      ]
     },
     "execution_count": 5,
     "metadata": {},
     "output_type": "execute_result"
    }
   ],
   "source": [
    "len(nkinds)"
   ]
  },
  {
   "cell_type": "code",
   "execution_count": 14,
   "metadata": {
    "collapsed": true
   },
   "outputs": [],
   "source": [
    "s=Solution()"
   ]
  },
  {
   "cell_type": "code",
   "execution_count": 16,
   "metadata": {
    "collapsed": false
   },
   "outputs": [
    {
     "data": {
      "text/plain": [
       "3"
      ]
     },
     "execution_count": 16,
     "metadata": {},
     "output_type": "execute_result"
    }
   ],
   "source": [
    "s.distributeCandies([1,1,2,2,3,3])"
   ]
  },
  {
   "cell_type": "code",
   "execution_count": null,
   "metadata": {
    "collapsed": true
   },
   "outputs": [],
   "source": []
  },
  {
   "cell_type": "code",
   "execution_count": 13,
   "metadata": {
    "collapsed": true
   },
   "outputs": [],
   "source": [
    "class Solution(object):\n",
    "    def distributeCandies(self, candies):\n",
    "        \"\"\"\n",
    "        :type candies: List[int]\n",
    "        :rtype: int\n",
    "        \"\"\"\n",
    "        n=len(candies)\n",
    "        nkinds=[]\n",
    "        for i in range(n):\n",
    "            if candies[i] not in nkinds:\n",
    "                nkinds.append(candies[i])\n",
    "        return min(int(n/2),len(nkinds))"
   ]
  },
  {
   "cell_type": "code",
   "execution_count": null,
   "metadata": {
    "collapsed": true
   },
   "outputs": [],
   "source": []
  },
  {
   "cell_type": "code",
   "execution_count": null,
   "metadata": {
    "collapsed": true
   },
   "outputs": [],
   "source": []
  },
  {
   "cell_type": "code",
   "execution_count": null,
   "metadata": {
    "collapsed": true
   },
   "outputs": [],
   "source": []
  },
  {
   "cell_type": "code",
   "execution_count": null,
   "metadata": {
    "collapsed": true
   },
   "outputs": [],
   "source": []
  },
  {
   "cell_type": "code",
   "execution_count": null,
   "metadata": {
    "collapsed": true
   },
   "outputs": [],
   "source": []
  }
 ],
 "metadata": {
  "kernelspec": {
   "display_name": "Python [default]",
   "language": "python",
   "name": "python3"
  },
  "language_info": {
   "codemirror_mode": {
    "name": "ipython",
    "version": 3
   },
   "file_extension": ".py",
   "mimetype": "text/x-python",
   "name": "python",
   "nbconvert_exporter": "python",
   "pygments_lexer": "ipython3",
   "version": "3.5.2"
  }
 },
 "nbformat": 4,
 "nbformat_minor": 1
}
