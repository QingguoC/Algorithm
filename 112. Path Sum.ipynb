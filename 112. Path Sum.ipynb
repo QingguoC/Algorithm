{
 "cells": [
  {
   "cell_type": "markdown",
   "metadata": {},
   "source": [
    "112. Path Sum\n",
    "Given a binary tree and a sum, determine if the tree has a root-to-leaf path such that adding up all the values along the path equals the given sum.\n",
    "\n",
    "For example:\n",
    "Given the below binary tree and sum = 22,\n",
    "              5\n",
    "             / \\\n",
    "            4   8\n",
    "           /   / \\\n",
    "          11  13  4\n",
    "         /  \\      \\\n",
    "        7    2      1\n",
    "return true, as there exist a root-to-leaf path 5->4->11->2 which sum is 22."
   ]
  },
  {
   "cell_type": "code",
   "execution_count": 9,
   "metadata": {
    "collapsed": true
   },
   "outputs": [],
   "source": [
    "class TreeNode(object):\n",
    "    def __init__(self,x):\n",
    "        self.val=x\n",
    "        self.left=None\n",
    "        self.right=None\n",
    "class Solution(object):\n",
    "    def hasPathSum(self, root, sum):\n",
    "        \"\"\"\n",
    "        :type root: TreeNode\n",
    "        :type sum: int\n",
    "        :rtype: bool\n",
    "        \"\"\"\n",
    "        if not root:\n",
    "            return False\n",
    "        return self.helper(root,sum,0)\n",
    "    def helper(self,root,target,sofar):\n",
    "        if not root:\n",
    "            return False\n",
    "        sofar=sofar+root.val\n",
    "        if not root.left and not root.right:\n",
    "            return target==sofar\n",
    "        return self.helper(root.left,target,sofar) or self.helper(root.right,target,sofar)"
   ]
  },
  {
   "cell_type": "code",
   "execution_count": 10,
   "metadata": {
    "collapsed": true
   },
   "outputs": [],
   "source": [
    "n1=TreeNode(10)\n",
    "n2=TreeNode(5)\n",
    "n3=TreeNode(-3)\n",
    "n4=TreeNode(3)\n",
    "n5=TreeNode(2)\n",
    "n6=TreeNode(11)\n",
    "n7=TreeNode(3)\n",
    "n8=TreeNode(-2)\n",
    "n9=TreeNode(1)\n",
    "n1.left=n2\n",
    "n1.right=n3\n",
    "n2.left=n4\n",
    "n2.right=n5\n",
    "n3.right=n6\n",
    "n4.left=n7\n",
    "n4.right=n8\n",
    "n5.right=n9\n",
    "\n"
   ]
  },
  {
   "cell_type": "code",
   "execution_count": 11,
   "metadata": {
    "collapsed": true
   },
   "outputs": [],
   "source": [
    "s=Solution()"
   ]
  },
  {
   "cell_type": "code",
   "execution_count": 12,
   "metadata": {
    "collapsed": false
   },
   "outputs": [
    {
     "data": {
      "text/plain": [
       "True"
      ]
     },
     "execution_count": 12,
     "metadata": {},
     "output_type": "execute_result"
    }
   ],
   "source": [
    "s.hasPathSum(n1,21)"
   ]
  },
  {
   "cell_type": "code",
   "execution_count": 13,
   "metadata": {
    "collapsed": true
   },
   "outputs": [],
   "source": [
    "n11=TreeNode(1)\n",
    "n12=TreeNode(2)\n",
    "n11.left=n12"
   ]
  },
  {
   "cell_type": "code",
   "execution_count": 16,
   "metadata": {
    "collapsed": false
   },
   "outputs": [
    {
     "data": {
      "text/plain": [
       "False"
      ]
     },
     "execution_count": 16,
     "metadata": {},
     "output_type": "execute_result"
    }
   ],
   "source": [
    "s.hasPathSum(n11,0)"
   ]
  },
  {
   "cell_type": "code",
   "execution_count": null,
   "metadata": {
    "collapsed": true
   },
   "outputs": [],
   "source": []
  },
  {
   "cell_type": "code",
   "execution_count": null,
   "metadata": {
    "collapsed": true
   },
   "outputs": [],
   "source": []
  },
  {
   "cell_type": "code",
   "execution_count": null,
   "metadata": {
    "collapsed": true
   },
   "outputs": [],
   "source": []
  },
  {
   "cell_type": "code",
   "execution_count": null,
   "metadata": {
    "collapsed": true
   },
   "outputs": [],
   "source": []
  },
  {
   "cell_type": "code",
   "execution_count": null,
   "metadata": {
    "collapsed": true
   },
   "outputs": [],
   "source": []
  },
  {
   "cell_type": "markdown",
   "metadata": {},
   "source": []
  }
 ],
 "metadata": {
  "anaconda-cloud": {},
  "kernelspec": {
   "display_name": "Python [default]",
   "language": "python",
   "name": "python3"
  },
  "language_info": {
   "codemirror_mode": {
    "name": "ipython",
    "version": 3
   },
   "file_extension": ".py",
   "mimetype": "text/x-python",
   "name": "python",
   "nbconvert_exporter": "python",
   "pygments_lexer": "ipython3",
   "version": "3.5.2"
  }
 },
 "nbformat": 4,
 "nbformat_minor": 1
}
