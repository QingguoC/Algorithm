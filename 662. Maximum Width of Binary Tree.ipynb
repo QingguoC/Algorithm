{
 "cells": [
  {
   "cell_type": "markdown",
   "metadata": {},
   "source": [
    "Given a binary tree, write a function to get the maximum width of the given tree. The width of a tree is the maximum width among all levels. The binary tree has the same structure as a full binary tree, but some nodes are null.\n",
    "\n",
    "The width of one level is defined as the length between the end-nodes (the leftmost and right most non-null nodes in the level, where the null nodes between the end-nodes are also counted into the length calculation.\n",
    "\n",
    "Example 1:\n",
    "Input: \n",
    "\n",
    "           1\n",
    "         /   \\\n",
    "        3     2\n",
    "       / \\     \\  \n",
    "      5   3     9 \n",
    "\n",
    "Output: 4\n",
    "Explanation: The maximum width existing in the third level with the length 4 (5,3,null,9).\n",
    "Example 2:\n",
    "Input: \n",
    "\n",
    "          1\n",
    "         /  \n",
    "        3    \n",
    "       / \\       \n",
    "      5   3     \n",
    "\n",
    "Output: 2\n",
    "Explanation: The maximum width existing in the third level with the length 2 (5,3).\n",
    "Example 3:\n",
    "Input: \n",
    "\n",
    "          1\n",
    "         / \\\n",
    "        3   2 \n",
    "       /        \n",
    "      5      \n",
    "\n",
    "Output: 2\n",
    "Explanation: The maximum width existing in the second level with the length 2 (3,2).\n",
    "Example 4:\n",
    "Input: \n",
    "\n",
    "          1\n",
    "         / \\\n",
    "        3   2\n",
    "       /     \\  \n",
    "      5       9 \n",
    "     /         \\\n",
    "    6           7\n",
    "Output: 8\n",
    "Explanation:The maximum width existing in the fourth level with the length 8 (6,null,null,null,null,null,null,7)."
   ]
  },
  {
   "cell_type": "code",
   "execution_count": 49,
   "metadata": {
    "collapsed": false
   },
   "outputs": [],
   "source": [
    "class TreeNode(object):\n",
    "    def __init__(self, x):\n",
    "        self.val = x\n",
    "        self.left = None\n",
    "        self.right = None\n",
    "\n",
    "class Solution(object):\n",
    "    def widthOfBinaryTree(self, root):\n",
    "        \"\"\"\n",
    "        :type root: TreeNode\n",
    "        :rtype: int\n",
    "        \"\"\"\n",
    "        if not root:\n",
    "            return 0\n",
    "        q=[root]\n",
    "        ws='1'\n",
    "        mw=0\n",
    "        l=1\n",
    "        while l!=0:\n",
    "            mw=max(mw,l)\n",
    "            ws=\"\"\n",
    "            newQ=[]\n",
    "            for node in q:\n",
    "                if type(node)==str:\n",
    "                    newQ.append(\"\")\n",
    "                    newQ.append(\"\")\n",
    "                    ws+=\"  \"\n",
    "                else:\n",
    "                    if node.left:\n",
    "                        newQ.append(node.left)\n",
    "                        ws+=\"1\"\n",
    "                    else:\n",
    "                        ws+=\" \"\n",
    "                        newQ.append(\"\")\n",
    "                    if node.right:\n",
    "                        newQ.append(node.right)\n",
    "                        ws+=\"1\"\n",
    "                    else:\n",
    "                        ws+=\" \"\n",
    "                        newQ.append(\"\")\n",
    "            q=newQ\n",
    "            l=len(ws.strip())\n",
    "        return mw\n",
    "            \n",
    "            \n",
    "            "
   ]
  },
  {
   "cell_type": "code",
   "execution_count": 50,
   "metadata": {
    "collapsed": true
   },
   "outputs": [],
   "source": [
    "t1=TreeNode(1)\n",
    "t2=TreeNode(1)\n",
    "t3=TreeNode(1)\n",
    "t4=TreeNode(1)\n",
    "t5=TreeNode(1)\n",
    "t6=TreeNode(1)\n",
    "t7=TreeNode(1)\n",
    "t8=TreeNode(1)\n",
    "t1.left=t2\n",
    "t1.right=t3\n",
    "t2.left=t4\n",
    "t3.right=t5\n",
    "t5.right=t7\n",
    "t4.left=t6\n",
    "t7.left=t8\n"
   ]
  },
  {
   "cell_type": "code",
   "execution_count": 51,
   "metadata": {
    "collapsed": true
   },
   "outputs": [],
   "source": [
    "s=Solution()"
   ]
  },
  {
   "cell_type": "code",
   "execution_count": 52,
   "metadata": {
    "collapsed": false
   },
   "outputs": [
    {
     "data": {
      "text/plain": [
       "8"
      ]
     },
     "execution_count": 52,
     "metadata": {},
     "output_type": "execute_result"
    }
   ],
   "source": [
    "s.widthOfBinaryTree(t1)"
   ]
  },
  {
   "cell_type": "code",
   "execution_count": 58,
   "metadata": {
    "collapsed": false
   },
   "outputs": [
    {
     "data": {
      "text/plain": [
       "273314161"
      ]
     },
     "execution_count": 58,
     "metadata": {},
     "output_type": "execute_result"
    }
   ],
   "source": [
    "hash(t1)"
   ]
  },
  {
   "cell_type": "code",
   "execution_count": null,
   "metadata": {
    "collapsed": true
   },
   "outputs": [],
   "source": [
    "class Solution(object):\n",
    "    def widthOfBinaryTree(self, root):\n",
    "        \"\"\"\n",
    "        :type root: TreeNode\n",
    "        :rtype: int\n",
    "        \"\"\"\n",
    "        if not root:\n",
    "            return 0\n",
    "        q=[root]\n",
    "        ws='1'\n",
    "        mw=0\n",
    "        l=1\n",
    "        while l!=0:\n",
    "            mw=max(mw,l)\n",
    "            ws=\"\"\n",
    "            newQ=[]\n",
    "            for node in q:\n",
    "                if type(node)==str:\n",
    "                    newQ.append(\"\")\n",
    "                    newQ.append(\"\")\n",
    "                    ws+=\"  \"\n",
    "                else:\n",
    "                    if node.left:\n",
    "                        newQ.append(node.left)\n",
    "                        ws+=\"1\"\n",
    "                    else:\n",
    "                        ws+=\" \"\n",
    "                        newQ.append(\"\")\n",
    "                    if node.right:\n",
    "                        newQ.append(node.right)\n",
    "                        ws+=\"1\"\n",
    "                    else:\n",
    "                        ws+=\" \"\n",
    "                        newQ.append(\"\")\n",
    "            q=newQ\n",
    "            l=len(ws.strip())\n",
    "        return mw\n",
    "    def countLayer"
   ]
  }
 ],
 "metadata": {
  "anaconda-cloud": {},
  "kernelspec": {
   "display_name": "Python [default]",
   "language": "python",
   "name": "python3"
  },
  "language_info": {
   "codemirror_mode": {
    "name": "ipython",
    "version": 3
   },
   "file_extension": ".py",
   "mimetype": "text/x-python",
   "name": "python",
   "nbconvert_exporter": "python",
   "pygments_lexer": "ipython3",
   "version": "3.5.2"
  }
 },
 "nbformat": 4,
 "nbformat_minor": 1
}
