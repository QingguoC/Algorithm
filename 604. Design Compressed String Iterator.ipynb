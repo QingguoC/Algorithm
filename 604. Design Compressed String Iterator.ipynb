{
 "cells": [
  {
   "cell_type": "markdown",
   "metadata": {},
   "source": [
    "Design and implement a data structure for a compressed string iterator. It should support the following operations: next and hasNext.\n",
    "\n",
    "The given compressed string will be in the form of each letter followed by a positive integer representing the number of this letter existing in the original uncompressed string.\n",
    "\n",
    "next() - if the original string still has uncompressed characters, return the next letter; Otherwise return a white space.\n",
    "hasNext() - Judge whether there is any letter needs to be uncompressed.\n",
    "\n",
    "Note:\n",
    "Please remember to RESET your class variables, as static/class variables are persisted across multiple test cases. Please see here for more details.\n",
    "\n",
    "Example:\n",
    "\n",
    "StringIterator iterator = new StringIterator(\"L1e2t1C1o1d1e1\");\n",
    "\n",
    "iterator.next(); // return 'L'\n",
    "iterator.next(); // return 'e'\n",
    "iterator.next(); // return 'e'\n",
    "iterator.next(); // return 't'\n",
    "iterator.next(); // return 'C'\n",
    "iterator.next(); // return 'o'\n",
    "iterator.next(); // return 'd'\n",
    "iterator.hasNext(); // return true\n",
    "iterator.next(); // return 'e'\n",
    "iterator.hasNext(); // return false\n",
    "iterator.next(); // return ' '"
   ]
  },
  {
   "cell_type": "code",
   "execution_count": 82,
   "metadata": {
    "collapsed": false
   },
   "outputs": [],
   "source": [
    "class StringIterator(object):\n",
    "\n",
    "    def __init__(self, compressedString):\n",
    "        \"\"\"\n",
    "        :type compressedString: str\n",
    "        \"\"\"\n",
    "        self.s=compressedString\n",
    "        self.index=0\n",
    "        self.length=len(compressedString)\n",
    "        self.d=0\n",
    "        self.nextIndex=0\n",
    "        if not self.s or self.length==0:\n",
    "            self.N=0\n",
    "        else:\n",
    "            self.N=self.currN(self.index)\n",
    "        \n",
    "    def currN(self,index):\n",
    "        if index >= self.length:\n",
    "            return 0\n",
    "        res=0\n",
    "        i=index+1\n",
    "        while i < self.length and self.s[i].isdigit():\n",
    "            i+=1\n",
    "        self.nextIndex=i\n",
    "        return int(self.s[index+1:i])\n",
    "          \n",
    "    def next(self):\n",
    "        \"\"\"\n",
    "        :rtype: str\n",
    "        \"\"\"\n",
    "        if not self.hasNext():\n",
    "            return ' '\n",
    "        else:\n",
    "            if self.N==0:\n",
    "                res=\" \"\n",
    "            else:\n",
    "                res=self.s[self.index]\n",
    "            self.d+=1\n",
    "            if self.d>=self.N:\n",
    "                self.index=self.nextIndex\n",
    "                self.N=self.currN(self.index)\n",
    "                self.d=0\n",
    "            return res\n",
    "                \n",
    "            \n",
    "        \n",
    "    def hasNext(self):\n",
    "        \"\"\"\n",
    "        :rtype: bool\n",
    "        \"\"\"\n",
    "        return self.index<self.length\n",
    "            \n",
    "\n",
    "\n",
    "# Your StringIterator object will be instantiated and called as such:\n",
    "# obj = StringIterator(compressedString)\n",
    "# param_1 = obj.next()\n",
    "# param_2 = obj.hasNext()"
   ]
  },
  {
   "cell_type": "code",
   "execution_count": 1,
   "metadata": {
    "collapsed": true
   },
   "outputs": [],
   "source": [
    "st=\"fei2\""
   ]
  },
  {
   "cell_type": "code",
   "execution_count": 3,
   "metadata": {
    "collapsed": false
   },
   "outputs": [
    {
     "data": {
      "text/plain": [
       "2"
      ]
     },
     "execution_count": 3,
     "metadata": {},
     "output_type": "execute_result"
    }
   ],
   "source": [
    "int(st[3])"
   ]
  },
  {
   "cell_type": "code",
   "execution_count": 4,
   "metadata": {
    "collapsed": false
   },
   "outputs": [
    {
     "data": {
      "text/plain": [
       "'ff'"
      ]
     },
     "execution_count": 4,
     "metadata": {},
     "output_type": "execute_result"
    }
   ],
   "source": [
    "\"f\"*2"
   ]
  },
  {
   "cell_type": "code",
   "execution_count": null,
   "metadata": {
    "collapsed": true
   },
   "outputs": [],
   "source": []
  },
  {
   "cell_type": "code",
   "execution_count": 5,
   "metadata": {
    "collapsed": false
   },
   "outputs": [
    {
     "data": {
      "text/plain": [
       "str"
      ]
     },
     "execution_count": 5,
     "metadata": {},
     "output_type": "execute_result"
    }
   ],
   "source": [
    "type('c')"
   ]
  },
  {
   "cell_type": "code",
   "execution_count": 52,
   "metadata": {
    "collapsed": false
   },
   "outputs": [],
   "source": [
    "iterator = StringIterator(\"Le2t1C1o1d1e1\");"
   ]
  },
  {
   "cell_type": "code",
   "execution_count": 53,
   "metadata": {
    "collapsed": false
   },
   "outputs": [
    {
     "ename": "ValueError",
     "evalue": "invalid literal for int() with base 10: ''",
     "output_type": "error",
     "traceback": [
      "\u001b[0;31m---------------------------------------------------------------------------\u001b[0m",
      "\u001b[0;31mValueError\u001b[0m                                Traceback (most recent call last)",
      "\u001b[0;32m<ipython-input-53-a0857f59ad48>\u001b[0m in \u001b[0;36m<module>\u001b[0;34m()\u001b[0m\n\u001b[0;32m----> 1\u001b[0;31m \u001b[0miterator\u001b[0m\u001b[0;34m.\u001b[0m\u001b[0mcurrN\u001b[0m\u001b[0;34m(\u001b[0m\u001b[0;36m0\u001b[0m\u001b[0;34m)\u001b[0m\u001b[0;34m\u001b[0m\u001b[0m\n\u001b[0m",
      "\u001b[0;32m<ipython-input-46-23bcaed708a4>\u001b[0m in \u001b[0;36mcurrN\u001b[0;34m(self, index)\u001b[0m\n\u001b[1;32m     14\u001b[0m         \u001b[0;32mwhile\u001b[0m \u001b[0mi\u001b[0m \u001b[0;34m<\u001b[0m \u001b[0mself\u001b[0m\u001b[0;34m.\u001b[0m\u001b[0mlength\u001b[0m \u001b[0;32mand\u001b[0m \u001b[0mself\u001b[0m\u001b[0;34m.\u001b[0m\u001b[0ms\u001b[0m\u001b[0;34m[\u001b[0m\u001b[0mi\u001b[0m\u001b[0;34m]\u001b[0m\u001b[0;34m.\u001b[0m\u001b[0misdigit\u001b[0m\u001b[0;34m(\u001b[0m\u001b[0;34m)\u001b[0m\u001b[0;34m:\u001b[0m\u001b[0;34m\u001b[0m\u001b[0m\n\u001b[1;32m     15\u001b[0m             \u001b[0mi\u001b[0m\u001b[0;34m+=\u001b[0m\u001b[0;36m1\u001b[0m\u001b[0;34m\u001b[0m\u001b[0m\n\u001b[0;32m---> 16\u001b[0;31m         \u001b[0;32mreturn\u001b[0m \u001b[0mint\u001b[0m\u001b[0;34m(\u001b[0m\u001b[0mself\u001b[0m\u001b[0;34m.\u001b[0m\u001b[0ms\u001b[0m\u001b[0;34m[\u001b[0m\u001b[0mindex\u001b[0m\u001b[0;34m+\u001b[0m\u001b[0;36m1\u001b[0m\u001b[0;34m:\u001b[0m\u001b[0mi\u001b[0m\u001b[0;34m]\u001b[0m\u001b[0;34m)\u001b[0m\u001b[0;34m\u001b[0m\u001b[0m\n\u001b[0m\u001b[1;32m     17\u001b[0m \u001b[0;34m\u001b[0m\u001b[0m\n\u001b[1;32m     18\u001b[0m     \u001b[0;32mdef\u001b[0m \u001b[0mnext\u001b[0m\u001b[0;34m(\u001b[0m\u001b[0mself\u001b[0m\u001b[0;34m)\u001b[0m\u001b[0;34m:\u001b[0m\u001b[0;34m\u001b[0m\u001b[0m\n",
      "\u001b[0;31mValueError\u001b[0m: invalid literal for int() with base 10: ''"
     ]
    }
   ],
   "source": [
    "iterator.currN(0)"
   ]
  },
  {
   "cell_type": "code",
   "execution_count": 21,
   "metadata": {
    "collapsed": false
   },
   "outputs": [
    {
     "name": "stdout",
     "output_type": "stream",
     "text": [
      "C\n"
     ]
    }
   ],
   "source": [
    "print(iterator.next())"
   ]
  },
  {
   "cell_type": "code",
   "execution_count": 86,
   "metadata": {
    "collapsed": false
   },
   "outputs": [
    {
     "name": "stdout",
     "output_type": "stream",
     "text": [
      "L\n",
      "L\n",
      "L\n",
      "L\n",
      "L\n",
      "L\n",
      "L\n",
      "L\n",
      "L\n",
      "L\n",
      " \n",
      " \n",
      " \n",
      " \n",
      " \n",
      " \n",
      " \n",
      " \n",
      " \n",
      " \n",
      " \n",
      " \n",
      " \n",
      " \n"
     ]
    }
   ],
   "source": [
    "print(iterator.next())\n",
    "print(iterator.next())\n",
    "print(iterator.next())\n",
    "print(iterator.next())\n",
    "print(iterator.next())\n",
    "print(iterator.next())\n",
    "print(iterator.next())\n",
    "print(iterator.next())\n",
    "print(iterator.next())\n",
    "print(iterator.next())\n",
    "print(iterator.next())\n",
    "print(iterator.next())\n",
    "print(iterator.next())\n",
    "print(iterator.next())\n",
    "print(iterator.next())\n",
    "print(iterator.next())\n",
    "print(iterator.next())\n",
    "print(iterator.next())\n",
    "print(iterator.next())\n",
    "print(iterator.next())\n",
    "print(iterator.next())\n",
    "print(iterator.next())\n",
    "print(iterator.next())\n",
    "print(iterator.next())"
   ]
  },
  {
   "cell_type": "code",
   "execution_count": 85,
   "metadata": {
    "collapsed": true
   },
   "outputs": [],
   "source": [
    "iterator = StringIterator(\"L10\");"
   ]
  },
  {
   "cell_type": "code",
   "execution_count": 34,
   "metadata": {
    "collapsed": false
   },
   "outputs": [],
   "source": [
    "iterator.next()\n",
    "iterator.next();\n",
    "iterator.next(); \n",
    "iterator.next(); \n",
    "iterator.next(); \n",
    "iterator.next(); \n",
    "iterator.next(); \n",
    "iterator.hasNext(); \n",
    "iterator.next(); \n",
    "iterator.hasNext(); \n",
    "iterator.next(); "
   ]
  },
  {
   "cell_type": "code",
   "execution_count": 36,
   "metadata": {
    "collapsed": false
   },
   "outputs": [
    {
     "data": {
      "text/plain": [
       "False"
      ]
     },
     "execution_count": 36,
     "metadata": {},
     "output_type": "execute_result"
    }
   ],
   "source": [
    "iterator.hasNext()"
   ]
  },
  {
   "cell_type": "code",
   "execution_count": 40,
   "metadata": {
    "collapsed": false
   },
   "outputs": [
    {
     "data": {
      "text/plain": [
       "'2'"
      ]
     },
     "execution_count": 40,
     "metadata": {},
     "output_type": "execute_result"
    }
   ],
   "source": [
    "t=st[3]\n",
    "t.isdigit"
   ]
  },
  {
   "cell_type": "code",
   "execution_count": null,
   "metadata": {
    "collapsed": true
   },
   "outputs": [],
   "source": []
  },
  {
   "cell_type": "markdown",
   "metadata": {},
   "source": [
    "Runtime Error Message:\n",
    "Line 21: ValueError: invalid literal for int() with base 10: 'e'\n",
    "Last executed input:\n",
    "[\"StringIterator\",\"next\",\"next\",\"next\",\"next\",\"next\",\"next\",\"hasNext\",\"next\",\"hasNext\"]\n",
    "[[\"L10e2t1C1o1d1e11\"],[],[],[],[],[],[],[],[],[]]"
   ]
  }
 ],
 "metadata": {
  "anaconda-cloud": {},
  "kernelspec": {
   "display_name": "Python [default]",
   "language": "python",
   "name": "python3"
  },
  "language_info": {
   "codemirror_mode": {
    "name": "ipython",
    "version": 3
   },
   "file_extension": ".py",
   "mimetype": "text/x-python",
   "name": "python",
   "nbconvert_exporter": "python",
   "pygments_lexer": "ipython3",
   "version": "3.5.2"
  }
 },
 "nbformat": 4,
 "nbformat_minor": 1
}
