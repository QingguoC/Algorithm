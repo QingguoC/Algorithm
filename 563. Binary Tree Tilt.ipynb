{
 "cells": [
  {
   "cell_type": "markdown",
   "metadata": {},
   "source": [
    "Given a binary tree, return the tilt of the whole tree.\n",
    "\n",
    "The tilt of a tree node is defined as the absolute difference between the sum of all left subtree node values and the sum of all right subtree node values. Null node has tilt 0.\n",
    "\n",
    "The tilt of the whole tree is defined as the sum of all nodes' tilt.\n",
    "\n",
    "Example:\n",
    "Input: \n",
    "         1\n",
    "       /   \\\n",
    "      2     3\n",
    "Output: 1\n",
    "Explanation: \n",
    "Tilt of node 2 : 0\n",
    "Tilt of node 3 : 0\n",
    "Tilt of node 1 : |2-3| = 1\n",
    "Tilt of binary tree : 0 + 0 + 1 = 1\n",
    "Note:\n",
    "\n",
    "The sum of node values in any subtree won't exceed the range of 32-bit integer.\n",
    "All the tilt values won't exceed the range of 32-bit integer."
   ]
  },
  {
   "cell_type": "code",
   "execution_count": 19,
   "metadata": {
    "collapsed": false
   },
   "outputs": [],
   "source": [
    "class TreeNode(object):\n",
    "    def __init__(self, x):\n",
    "        self.val = x\n",
    "        self.left = None\n",
    "        self.right = None\n",
    "class Solution(object):\n",
    "    def findTilt(self, root):\n",
    "        \"\"\"\n",
    "        :type root: TreeNode\n",
    "        :rtype: int\n",
    "        \"\"\"\n",
    "        self.sum=0\n",
    "        self.helper(root)\n",
    "        return self.sum\n",
    "    def helper(self,root):\n",
    "        if not root:\n",
    "            return 0\n",
    "        left=self.helper(root.left)\n",
    "        right=self.helper(root.right)\n",
    "        tilt=abs(left-right)\n",
    "        self.sum+=tilt\n",
    "        return root.val+left+right\n"
   ]
  },
  {
   "cell_type": "code",
   "execution_count": 20,
   "metadata": {
    "collapsed": true
   },
   "outputs": [],
   "source": [
    "s=Solution()"
   ]
  },
  {
   "cell_type": "code",
   "execution_count": 21,
   "metadata": {
    "collapsed": true
   },
   "outputs": [],
   "source": [
    "n1=TreeNode(1)\n",
    "n2=TreeNode(2)\n",
    "n3=TreeNode(3)\n",
    "n1.left=n2\n",
    "n1.right=n3"
   ]
  },
  {
   "cell_type": "code",
   "execution_count": 22,
   "metadata": {
    "collapsed": false
   },
   "outputs": [
    {
     "data": {
      "text/plain": [
       "1"
      ]
     },
     "execution_count": 22,
     "metadata": {},
     "output_type": "execute_result"
    }
   ],
   "source": [
    "s.findTilt(n1)"
   ]
  },
  {
   "cell_type": "code",
   "execution_count": null,
   "metadata": {
    "collapsed": true
   },
   "outputs": [],
   "source": []
  },
  {
   "cell_type": "code",
   "execution_count": null,
   "metadata": {
    "collapsed": true
   },
   "outputs": [],
   "source": []
  },
  {
   "cell_type": "code",
   "execution_count": null,
   "metadata": {
    "collapsed": true
   },
   "outputs": [],
   "source": []
  },
  {
   "cell_type": "code",
   "execution_count": null,
   "metadata": {
    "collapsed": true
   },
   "outputs": [],
   "source": []
  },
  {
   "cell_type": "code",
   "execution_count": null,
   "metadata": {
    "collapsed": true
   },
   "outputs": [],
   "source": []
  },
  {
   "cell_type": "code",
   "execution_count": null,
   "metadata": {
    "collapsed": true
   },
   "outputs": [],
   "source": []
  }
 ],
 "metadata": {
  "anaconda-cloud": {},
  "kernelspec": {
   "display_name": "Python [default]",
   "language": "python",
   "name": "python3"
  },
  "language_info": {
   "codemirror_mode": {
    "name": "ipython",
    "version": 3
   },
   "file_extension": ".py",
   "mimetype": "text/x-python",
   "name": "python",
   "nbconvert_exporter": "python",
   "pygments_lexer": "ipython3",
   "version": "3.5.2"
  }
 },
 "nbformat": 4,
 "nbformat_minor": 1
}
