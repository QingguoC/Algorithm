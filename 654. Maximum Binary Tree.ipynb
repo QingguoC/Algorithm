{
 "cells": [
  {
   "cell_type": "code",
   "execution_count": null,
   "metadata": {
    "collapsed": true
   },
   "outputs": [],
   "source": [
    "Given an integer array with no duplicates. A maximum tree building on this array is defined as follow:\n",
    "\n",
    "The root is the maximum number in the array.\n",
    "The left subtree is the maximum tree constructed from left part subarray divided by the maximum number.\n",
    "The right subtree is the maximum tree constructed from right part subarray divided by the maximum number.\n",
    "Construct the maximum tree by the given array and output the root node of this tree.\n",
    "\n",
    "Example 1:\n",
    "Input: [3,2,1,6,0,5]\n",
    "Output: return the tree root node representing the following tree:\n",
    "\n",
    "      6\n",
    "    /   \\\n",
    "   3     5\n",
    "    \\    / \n",
    "     2  0   \n",
    "       \\\n",
    "        1\n",
    "Note:\n",
    "The size of the given array will be in the range [1,1000]."
   ]
  },
  {
   "cell_type": "code",
   "execution_count": 7,
   "metadata": {
    "collapsed": true
   },
   "outputs": [],
   "source": [
    "class TreeNode(object):\n",
    "    def __init__(self, x):\n",
    "        self.val = x\n",
    "        self.left = None\n",
    "        self.right = None\n",
    "class Solution(object):\n",
    "    def constructMaximumBinaryTree(self, nums):\n",
    "        \"\"\"\n",
    "        :type nums: List[int]\n",
    "        :rtype: TreeNode\n",
    "        \"\"\"\n",
    "        if not nums:\n",
    "            return None\n",
    "        r=max([(v,i) for i,v in enumerate(nums)])\n",
    "        root=TreeNode(r[0])\n",
    "        root.left=self.constructMaximumBinaryTree(nums[:r[1]])\n",
    "        root.right=self.constructMaximumBinaryTree(nums[r[1]+1:])\n",
    "        return root"
   ]
  },
  {
   "cell_type": "code",
   "execution_count": 2,
   "metadata": {
    "collapsed": true
   },
   "outputs": [],
   "source": [
    "a=[2,3,1]"
   ]
  },
  {
   "cell_type": "code",
   "execution_count": 6,
   "metadata": {
    "collapsed": false
   },
   "outputs": [
    {
     "data": {
      "text/plain": [
       "(3, 1)"
      ]
     },
     "execution_count": 6,
     "metadata": {},
     "output_type": "execute_result"
    }
   ],
   "source": [
    "max([(v,i) for i,v in enumerate(a)])"
   ]
  },
  {
   "cell_type": "code",
   "execution_count": 8,
   "metadata": {
    "collapsed": true
   },
   "outputs": [],
   "source": [
    "s=Solution()"
   ]
  },
  {
   "cell_type": "code",
   "execution_count": 12,
   "metadata": {
    "collapsed": true
   },
   "outputs": [],
   "source": [
    "r=s.constructMaximumBinaryTree([3,2,1,6,0,5])"
   ]
  },
  {
   "cell_type": "code",
   "execution_count": 13,
   "metadata": {
    "collapsed": false
   },
   "outputs": [
    {
     "data": {
      "text/plain": [
       "6"
      ]
     },
     "execution_count": 13,
     "metadata": {},
     "output_type": "execute_result"
    }
   ],
   "source": [
    "r.val"
   ]
  },
  {
   "cell_type": "code",
   "execution_count": 15,
   "metadata": {
    "collapsed": false
   },
   "outputs": [
    {
     "data": {
      "text/plain": [
       "5"
      ]
     },
     "execution_count": 15,
     "metadata": {},
     "output_type": "execute_result"
    }
   ],
   "source": [
    "r.right.val"
   ]
  },
  {
   "cell_type": "code",
   "execution_count": null,
   "metadata": {
    "collapsed": true
   },
   "outputs": [],
   "source": []
  }
 ],
 "metadata": {
  "kernelspec": {
   "display_name": "Python [default]",
   "language": "python",
   "name": "python3"
  },
  "language_info": {
   "codemirror_mode": {
    "name": "ipython",
    "version": 3
   },
   "file_extension": ".py",
   "mimetype": "text/x-python",
   "name": "python",
   "nbconvert_exporter": "python",
   "pygments_lexer": "ipython3",
   "version": "3.5.2"
  }
 },
 "nbformat": 4,
 "nbformat_minor": 1
}
