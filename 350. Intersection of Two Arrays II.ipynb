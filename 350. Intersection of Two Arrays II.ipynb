{
 "cells": [
  {
   "cell_type": "markdown",
   "metadata": {},
   "source": [
    "350. Intersection of Two Arrays II\n",
    "Given two arrays, write a function to compute their intersection.\n",
    "\n",
    "Example:\n",
    "Given nums1 = [1, 2, 2, 1], nums2 = [2, 2], return [2, 2].\n",
    "\n",
    "Note:\n",
    "Each element in the result should appear as many times as it shows in both arrays.\n",
    "The result can be in any order.\n",
    "Follow up:\n",
    "What if the given array is already sorted? How would you optimize your algorithm?\n",
    "What if nums1's size is small compared to nums2's size? Which algorithm is better?\n",
    "What if elements of nums2 are stored on disk, and the memory is limited such that you cannot load all elements into the memory at once?"
   ]
  },
  {
   "cell_type": "code",
   "execution_count": 5,
   "metadata": {
    "collapsed": true
   },
   "outputs": [],
   "source": [
    "class Solution(object):\n",
    "    def intersect(self, nums1, nums2):\n",
    "        \"\"\"\n",
    "        :type nums1: List[int]\n",
    "        :type nums2: List[int]\n",
    "        :rtype: List[int]\n",
    "        \"\"\"\n",
    "        dic1={}\n",
    "        dic2={}\n",
    "        for v in nums1:\n",
    "            if v in dic1:\n",
    "                dic1[v]+=1\n",
    "            else:\n",
    "                dic1[v]=1\n",
    "        for v in nums2:\n",
    "            if v in dic2:\n",
    "                dic2[v]+=1\n",
    "            else:\n",
    "                dic2[v]=1\n",
    "        res=[]\n",
    "        if len(dic1)<len(dic2):\n",
    "            for v in dic1:\n",
    "                if v in dic2:\n",
    "                    minv=min(dic1[v],dic2[v])\n",
    "                    for i in range(minv):\n",
    "                        res.append(v)\n",
    "        else:\n",
    "            for v in dic2:\n",
    "                if v in dic1:\n",
    "                    minv=min(dic1[v],dic2[v])\n",
    "                    for i in range(minv):\n",
    "                        res.append(v)  \n",
    "        return res\n",
    "                "
   ]
  },
  {
   "cell_type": "code",
   "execution_count": 2,
   "metadata": {
    "collapsed": true
   },
   "outputs": [],
   "source": [
    "a=[2,3]"
   ]
  },
  {
   "cell_type": "code",
   "execution_count": 3,
   "metadata": {
    "collapsed": false
   },
   "outputs": [],
   "source": [
    "a.append([2]*3)"
   ]
  },
  {
   "cell_type": "code",
   "execution_count": 4,
   "metadata": {
    "collapsed": false
   },
   "outputs": [
    {
     "data": {
      "text/plain": [
       "[2, 3, [2, 2, 2]]"
      ]
     },
     "execution_count": 4,
     "metadata": {},
     "output_type": "execute_result"
    }
   ],
   "source": [
    "a"
   ]
  },
  {
   "cell_type": "code",
   "execution_count": 6,
   "metadata": {
    "collapsed": true
   },
   "outputs": [],
   "source": [
    "s=Solution()"
   ]
  },
  {
   "cell_type": "code",
   "execution_count": 9,
   "metadata": {
    "collapsed": false
   },
   "outputs": [
    {
     "data": {
      "text/plain": [
       "[]"
      ]
     },
     "execution_count": 9,
     "metadata": {},
     "output_type": "execute_result"
    }
   ],
   "source": [
    "s.intersect([],[])"
   ]
  },
  {
   "cell_type": "code",
   "execution_count": 10,
   "metadata": {
    "collapsed": false
   },
   "outputs": [
    {
     "data": {
      "text/plain": [
       "0"
      ]
     },
     "execution_count": 10,
     "metadata": {},
     "output_type": "execute_result"
    }
   ],
   "source": [
    "32^32"
   ]
  },
  {
   "cell_type": "code",
   "execution_count": null,
   "metadata": {
    "collapsed": true
   },
   "outputs": [],
   "source": []
  },
  {
   "cell_type": "code",
   "execution_count": null,
   "metadata": {
    "collapsed": true
   },
   "outputs": [],
   "source": []
  },
  {
   "cell_type": "code",
   "execution_count": null,
   "metadata": {
    "collapsed": true
   },
   "outputs": [],
   "source": []
  },
  {
   "cell_type": "markdown",
   "metadata": {},
   "source": []
  }
 ],
 "metadata": {
  "kernelspec": {
   "display_name": "Python [default]",
   "language": "python",
   "name": "python3"
  },
  "language_info": {
   "codemirror_mode": {
    "name": "ipython",
    "version": 3
   },
   "file_extension": ".py",
   "mimetype": "text/x-python",
   "name": "python",
   "nbconvert_exporter": "python",
   "pygments_lexer": "ipython3",
   "version": "3.5.2"
  }
 },
 "nbformat": 4,
 "nbformat_minor": 1
}
