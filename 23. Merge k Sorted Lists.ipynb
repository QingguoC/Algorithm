{
 "cells": [
  {
   "cell_type": "markdown",
   "metadata": {},
   "source": [
    "Merge k sorted linked lists and return it as one sorted list. Analyze and describe its complexity."
   ]
  },
  {
   "cell_type": "code",
   "execution_count": 1,
   "metadata": {
    "collapsed": true
   },
   "outputs": [],
   "source": [
    "\n",
    "class ListNode(object):\n",
    "    def __init__(self, x):\n",
    "        self.val = x\n",
    "        self.next = None\n",
    "import heapq\n",
    "class Solution(object):\n",
    "    def mergeKLists(self, lists):\n",
    "        \"\"\"\n",
    "        :type lists: List[ListNode]\n",
    "        :rtype: ListNode\n",
    "        \"\"\"\n",
    "        dummy=ListNode(0)\n",
    "        p=dummy\n",
    "        h=[]\n",
    "        for node in lists:\n",
    "            if node:\n",
    "                h.append((node.val,node))\n",
    "        heapq.heapify(h)\n",
    "        while h:\n",
    "            pop=heapq.heappop(h)\n",
    "            p.next=pop[1]\n",
    "            p=p.next\n",
    "            if pop[1].next:\n",
    "                heapq.heappush(h,(pop[1].next.val,pop[1].next))\n",
    "        return dummy.next\n",
    "        \n",
    "        "
   ]
  },
  {
   "cell_type": "code",
   "execution_count": 9,
   "metadata": {
    "collapsed": false
   },
   "outputs": [
    {
     "name": "stdout",
     "output_type": "stream",
     "text": [
      "(0, 'Title')\n",
      "(1, 'what name?')\n",
      "(2, 'Qingguo')\n",
      "(4, 'Gender?')\n",
      "(5, 'Male')\n"
     ]
    }
   ],
   "source": [
    "mh=[]\n",
    "mh.append((1,'what name?'))\n",
    "mh.append((0,'Title'))\n",
    "mh.append((2,'Qingguo'))\n",
    "mh.append((5,'Male'))\n",
    "mh.append((4,'Gender?'))\n",
    "heapq.heapify(mh)\n",
    "\n",
    "while mh:\n",
    "    print(heapq.heappop(mh))"
   ]
  },
  {
   "cell_type": "code",
   "execution_count": 15,
   "metadata": {
    "collapsed": false
   },
   "outputs": [
    {
     "name": "stdout",
     "output_type": "stream",
     "text": [
      "(1, 'what name?')\n",
      "(0, 'Title')\n",
      "(2, 'Qingguo')\n",
      "(5, 'Male')\n",
      "(4, 'Gender?')\n",
      "***********\n",
      "what name?\n",
      "Title\n",
      "Qingguo\n",
      "Male\n",
      "Gender?\n",
      "***********\n",
      "(4, 'Gender?')\n",
      "(5, 'Male')\n",
      "(2, 'Qingguo')\n",
      "(1, 'what name?')\n",
      "(0, 'Title')\n"
     ]
    }
   ],
   "source": [
    "mh=[]\n",
    "mh.append((1,'what name?'))\n",
    "mh.append((0,'Title'))\n",
    "mh.append((2,'Qingguo'))\n",
    "mh.append((5,'Male'))\n",
    "mh.append((4,'Gender?'))\n",
    "for node in mh:\n",
    "    print(node)\n",
    "print(\"***********\")\n",
    "for node in mh:\n",
    "    print(node[1])\n",
    "print(\"***********\")\n",
    "heapq.heapify(mh)\n",
    "while mh:\n",
    "    print(mh.pop())"
   ]
  },
  {
   "cell_type": "code",
   "execution_count": null,
   "metadata": {
    "collapsed": true
   },
   "outputs": [],
   "source": []
  },
  {
   "cell_type": "code",
   "execution_count": null,
   "metadata": {
    "collapsed": true
   },
   "outputs": [],
   "source": []
  },
  {
   "cell_type": "code",
   "execution_count": null,
   "metadata": {
    "collapsed": true
   },
   "outputs": [],
   "source": []
  },
  {
   "cell_type": "code",
   "execution_count": null,
   "metadata": {
    "collapsed": true
   },
   "outputs": [],
   "source": []
  },
  {
   "cell_type": "code",
   "execution_count": null,
   "metadata": {
    "collapsed": true
   },
   "outputs": [],
   "source": []
  },
  {
   "cell_type": "code",
   "execution_count": null,
   "metadata": {
    "collapsed": true
   },
   "outputs": [],
   "source": []
  },
  {
   "cell_type": "code",
   "execution_count": null,
   "metadata": {
    "collapsed": true
   },
   "outputs": [],
   "source": []
  },
  {
   "cell_type": "code",
   "execution_count": null,
   "metadata": {
    "collapsed": true
   },
   "outputs": [],
   "source": []
  },
  {
   "cell_type": "code",
   "execution_count": null,
   "metadata": {
    "collapsed": true
   },
   "outputs": [],
   "source": []
  },
  {
   "cell_type": "code",
   "execution_count": null,
   "metadata": {
    "collapsed": true
   },
   "outputs": [],
   "source": []
  },
  {
   "cell_type": "code",
   "execution_count": null,
   "metadata": {
    "collapsed": true
   },
   "outputs": [],
   "source": []
  },
  {
   "cell_type": "code",
   "execution_count": null,
   "metadata": {
    "collapsed": true
   },
   "outputs": [],
   "source": []
  },
  {
   "cell_type": "code",
   "execution_count": null,
   "metadata": {
    "collapsed": true
   },
   "outputs": [],
   "source": []
  }
 ],
 "metadata": {
  "kernelspec": {
   "display_name": "Python 3",
   "language": "python",
   "name": "python3"
  },
  "language_info": {
   "codemirror_mode": {
    "name": "ipython",
    "version": 3
   },
   "file_extension": ".py",
   "mimetype": "text/x-python",
   "name": "python",
   "nbconvert_exporter": "python",
   "pygments_lexer": "ipython3",
   "version": "3.5.1"
  }
 },
 "nbformat": 4,
 "nbformat_minor": 0
}
