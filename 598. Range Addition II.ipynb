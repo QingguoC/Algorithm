{
 "cells": [
  {
   "cell_type": "markdown",
   "metadata": {},
   "source": [
    "Given an m * n matrix M initialized with all 0's and several update operations.\n",
    "\n",
    "Operations are represented by a 2D array, and each operation is represented by an array with two positive integers a and b, which means M[i][j] should be added by one for all 0 <= i < a and 0 <= j < b.\n",
    "\n",
    "You need to count and return the number of maximum integers in the matrix after performing all the operations.\n",
    "\n",
    "Example 1:\n",
    "Input: \n",
    "m = 3, n = 3\n",
    "operations = [[2,2],[3,3]]\n",
    "Output: 4\n",
    "Explanation: \n",
    "Initially, M = \n",
    "[[0, 0, 0],\n",
    " [0, 0, 0],\n",
    " [0, 0, 0]]\n",
    "\n",
    "After performing [2,2], M = \n",
    "[[1, 1, 0],\n",
    " [1, 1, 0],\n",
    " [0, 0, 0]]\n",
    "\n",
    "After performing [3,3], M = \n",
    "[[2, 2, 1],\n",
    " [2, 2, 1],\n",
    " [1, 1, 1]]\n",
    "\n",
    "So the maximum integer in M is 2, and there are four of it in M. So return 4.\n",
    "Note:\n",
    "The range of m and n is [1,40000].\n",
    "The range of a is [1,m], and the range of b is [1,n].\n",
    "The range of operations size won't exceed 10,000."
   ]
  },
  {
   "cell_type": "code",
   "execution_count": 7,
   "metadata": {
    "collapsed": true
   },
   "outputs": [],
   "source": [
    "class Solution(object):\n",
    "    def maxCount(self, m, n, ops):\n",
    "        \"\"\"\n",
    "        :type m: int\n",
    "        :type n: int\n",
    "        :type ops: List[List[int]]\n",
    "        :rtype: int\n",
    "        \"\"\"\n",
    "        min1=m\n",
    "        min2=n\n",
    "        for i in range(len(ops)):\n",
    "            min1=min(min1,ops[i][0])\n",
    "            min2=min(min2,ops[i][1])\n",
    "        return min1*min2"
   ]
  },
  {
   "cell_type": "code",
   "execution_count": 8,
   "metadata": {
    "collapsed": true
   },
   "outputs": [],
   "source": [
    "s=Solution()"
   ]
  },
  {
   "cell_type": "code",
   "execution_count": 9,
   "metadata": {
    "collapsed": false
   },
   "outputs": [
    {
     "data": {
      "text/plain": [
       "4"
      ]
     },
     "execution_count": 9,
     "metadata": {},
     "output_type": "execute_result"
    }
   ],
   "source": [
    "s.maxCount(3,3,[[2,2],[3,3]])"
   ]
  },
  {
   "cell_type": "code",
   "execution_count": null,
   "metadata": {
    "collapsed": true
   },
   "outputs": [],
   "source": []
  },
  {
   "cell_type": "code",
   "execution_count": null,
   "metadata": {
    "collapsed": true
   },
   "outputs": [],
   "source": []
  },
  {
   "cell_type": "code",
   "execution_count": null,
   "metadata": {
    "collapsed": true
   },
   "outputs": [],
   "source": []
  },
  {
   "cell_type": "code",
   "execution_count": null,
   "metadata": {
    "collapsed": true
   },
   "outputs": [],
   "source": []
  },
  {
   "cell_type": "code",
   "execution_count": null,
   "metadata": {
    "collapsed": true
   },
   "outputs": [],
   "source": []
  },
  {
   "cell_type": "code",
   "execution_count": null,
   "metadata": {
    "collapsed": true
   },
   "outputs": [],
   "source": []
  },
  {
   "cell_type": "code",
   "execution_count": null,
   "metadata": {
    "collapsed": true
   },
   "outputs": [],
   "source": []
  },
  {
   "cell_type": "markdown",
   "metadata": {},
   "source": []
  }
 ],
 "metadata": {
  "kernelspec": {
   "display_name": "Python [default]",
   "language": "python",
   "name": "python3"
  },
  "language_info": {
   "codemirror_mode": {
    "name": "ipython",
    "version": 3
   },
   "file_extension": ".py",
   "mimetype": "text/x-python",
   "name": "python",
   "nbconvert_exporter": "python",
   "pygments_lexer": "ipython3",
   "version": "3.5.2"
  }
 },
 "nbformat": 4,
 "nbformat_minor": 1
}
