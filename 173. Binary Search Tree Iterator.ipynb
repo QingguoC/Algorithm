{
 "cells": [
  {
   "cell_type": "markdown",
   "metadata": {},
   "source": [
    "Implement an iterator over a binary search tree (BST). Your iterator will be initialized with the root node of a BST.\n",
    "\n",
    "Calling next() will return the next smallest number in the BST.\n",
    "\n",
    "Note: next() and hasNext() should run in average O(1) time and uses O(h) memory, where h is the height of the tree."
   ]
  },
  {
   "cell_type": "code",
   "execution_count": 13,
   "metadata": {
    "collapsed": false
   },
   "outputs": [
    {
     "name": "stdout",
     "output_type": "stream",
     "text": [
      "1\n",
      "2\n",
      "3\n",
      "4\n"
     ]
    }
   ],
   "source": [
    "\n",
    "class TreeNode(object):\n",
    "    def __init__(self, x):\n",
    "        self.val = x\n",
    "        self.left = None\n",
    "        self.right = None\n",
    "        \n",
    "class BSTIterator(object):\n",
    "    def __init__(self, root):\n",
    "        \"\"\"\n",
    "        :type root: TreeNode\n",
    "        \"\"\"\n",
    "        self.tree=[]\n",
    "        self.inOrderTraverse(root)\n",
    "        self.size=len(self.tree)\n",
    "        self.idx=-1\n",
    "    def hasNext(self):\n",
    "        \"\"\"\n",
    "        :rtype: bool\n",
    "        \"\"\"\n",
    "        self.idx+=1\n",
    "        return self.idx<self.size\n",
    "        \n",
    "\n",
    "    def next(self):\n",
    "        \"\"\"\n",
    "        :rtype: int\n",
    "        \"\"\"\n",
    "        return self.tree[self.idx]\n",
    "        \n",
    "    def inOrderTraverse(self,root):\n",
    "        if root==None:\n",
    "            return\n",
    "        self.inOrderTraverse(root.left)\n",
    "        self.tree.append(root.val)\n",
    "        self.inOrderTraverse(root.right)\n",
    "        \n",
    "        \n",
    "n1=TreeNode(2)\n",
    "n2=TreeNode(1)\n",
    "n3=TreeNode(4)\n",
    "n4=TreeNode(3)\n",
    "n1.left=n2\n",
    "n1.right=n3\n",
    "n3.left=n4        \n",
    "\n",
    "\n",
    "\n",
    "i, v = BSTIterator(n1), []\n",
    "while i.hasNext(): \n",
    "    v.append(i.next())\n",
    "for i in v:\n",
    "    print(i)\n",
    "\n",
    "\n",
    "# Your BSTIterator will be called like this:\n",
    "# i, v = BSTIterator(root), []\n",
    "# while i.hasNext(): v.append(i.next())"
   ]
  },
  {
   "cell_type": "code",
   "execution_count": null,
   "metadata": {
    "collapsed": true
   },
   "outputs": [],
   "source": []
  },
  {
   "cell_type": "code",
   "execution_count": null,
   "metadata": {
    "collapsed": true
   },
   "outputs": [],
   "source": []
  },
  {
   "cell_type": "code",
   "execution_count": null,
   "metadata": {
    "collapsed": true
   },
   "outputs": [],
   "source": []
  },
  {
   "cell_type": "code",
   "execution_count": null,
   "metadata": {
    "collapsed": true
   },
   "outputs": [],
   "source": []
  },
  {
   "cell_type": "code",
   "execution_count": null,
   "metadata": {
    "collapsed": true
   },
   "outputs": [],
   "source": []
  },
  {
   "cell_type": "code",
   "execution_count": 11,
   "metadata": {
    "collapsed": false
   },
   "outputs": [
    {
     "name": "stdout",
     "output_type": "stream",
     "text": [
      "3\n",
      "[0, 1, 2]\n"
     ]
    }
   ],
   "source": [
    "a=[0,1,2]\n",
    "print(len(a))\n",
    "print(a)"
   ]
  },
  {
   "cell_type": "code",
   "execution_count": null,
   "metadata": {
    "collapsed": true
   },
   "outputs": [],
   "source": []
  },
  {
   "cell_type": "code",
   "execution_count": null,
   "metadata": {
    "collapsed": true
   },
   "outputs": [],
   "source": []
  },
  {
   "cell_type": "code",
   "execution_count": null,
   "metadata": {
    "collapsed": true
   },
   "outputs": [],
   "source": []
  },
  {
   "cell_type": "code",
   "execution_count": null,
   "metadata": {
    "collapsed": true
   },
   "outputs": [],
   "source": []
  },
  {
   "cell_type": "code",
   "execution_count": null,
   "metadata": {
    "collapsed": true
   },
   "outputs": [],
   "source": []
  },
  {
   "cell_type": "code",
   "execution_count": null,
   "metadata": {
    "collapsed": true
   },
   "outputs": [],
   "source": []
  },
  {
   "cell_type": "code",
   "execution_count": null,
   "metadata": {
    "collapsed": true
   },
   "outputs": [],
   "source": []
  }
 ],
 "metadata": {
  "anaconda-cloud": {},
  "kernelspec": {
   "display_name": "Python [default]",
   "language": "python",
   "name": "python3"
  },
  "language_info": {
   "codemirror_mode": {
    "name": "ipython",
    "version": 3
   },
   "file_extension": ".py",
   "mimetype": "text/x-python",
   "name": "python",
   "nbconvert_exporter": "python",
   "pygments_lexer": "ipython3",
   "version": "3.5.2"
  }
 },
 "nbformat": 4,
 "nbformat_minor": 0
}
