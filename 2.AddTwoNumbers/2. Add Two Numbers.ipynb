{
 "cells": [
  {
   "cell_type": "markdown",
   "metadata": {},
   "source": [
    "\n",
    "You are given two non-empty linked lists representing two non-negative integers. The digits are stored in reverse order and each of their nodes contain a single digit. Add the two numbers and return it as a linked list.\n",
    "\n",
    "You may assume the two numbers do not contain any leading zero, except the number 0 itself.\n",
    "\n",
    "Input: (2 -> 4 -> 3) + (5 -> 6 -> 4)\n",
    "Output: 7 -> 0 -> 8"
   ]
  },
  {
   "cell_type": "code",
   "execution_count": 13,
   "metadata": {
    "collapsed": true
   },
   "outputs": [],
   "source": [
    "# Definition for singly-linked list.\n",
    "class ListNode(object):\n",
    "    def __init__(self, x):\n",
    "        self.val = x\n",
    "        self.next = None\n",
    "\n",
    "class Solution(object):\n",
    "    def addTwoNumbers(self, l1, l2):\n",
    "        dum=ListNode(0)\n",
    "        carry=0\n",
    "        p=dum\n",
    "        while l1 or l2:\n",
    "            if l1:\n",
    "                carry+=l1.val\n",
    "                l1=l1.next\n",
    "            if l2:\n",
    "                carry+=l2.val\n",
    "                l2=l2.next\n",
    "            p.next=ListNode(carry%10)\n",
    "            p=p.next\n",
    "            carry=carry//10\n",
    "            \n",
    "            \n",
    "        if carry!=0:\n",
    "            p.next=ListNode(carry)\n",
    "        return dum.next"
   ]
  },
  {
   "cell_type": "code",
   "execution_count": 14,
   "metadata": {
    "collapsed": true
   },
   "outputs": [],
   "source": [
    "l1=ListNode(2)\n",
    "l2=ListNode(4)\n",
    "l3=ListNode(3)\n",
    "l4=ListNode(5)\n",
    "l5=ListNode(6)\n",
    "l6=ListNode(4)\n",
    "l1.next=l2\n",
    "l2.next=l3\n",
    "l4.next=l5\n",
    "l5.next=l6\n",
    "s=Solution()"
   ]
  },
  {
   "cell_type": "code",
   "execution_count": 15,
   "metadata": {
    "collapsed": true
   },
   "outputs": [],
   "source": [
    "def printL(h):\n",
    "    res=\"\"\n",
    "    while h:\n",
    "        res+=str(h.val)+\"->\"\n",
    "        h=h.next\n",
    "    print(res)"
   ]
  },
  {
   "cell_type": "code",
   "execution_count": 17,
   "metadata": {
    "collapsed": false
   },
   "outputs": [
    {
     "name": "stdout",
     "output_type": "stream",
     "text": [
      "2->4->3->\n",
      "5->6->4->\n",
      "7->0->8->\n"
     ]
    }
   ],
   "source": [
    "printL(l1)\n",
    "printL(l4)\n",
    "printL(s.addTwoNumbers(l1,l4))"
   ]
  },
  {
   "cell_type": "code",
   "execution_count": null,
   "metadata": {
    "collapsed": true
   },
   "outputs": [],
   "source": []
  }
 ],
 "metadata": {
  "anaconda-cloud": {},
  "kernelspec": {
   "display_name": "Python [default]",
   "language": "python",
   "name": "python3"
  },
  "language_info": {
   "codemirror_mode": {
    "name": "ipython",
    "version": 3
   },
   "file_extension": ".py",
   "mimetype": "text/x-python",
   "name": "python",
   "nbconvert_exporter": "python",
   "pygments_lexer": "ipython3",
   "version": "3.5.2"
  }
 },
 "nbformat": 4,
 "nbformat_minor": 1
}
