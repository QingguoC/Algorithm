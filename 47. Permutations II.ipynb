{
 "cells": [
  {
   "cell_type": "markdown",
   "metadata": {},
   "source": [
    "Given a collection of numbers that might contain duplicates, return all possible unique permutations.\n",
    "\n",
    "For example,\n",
    "[1,1,2] have the following unique permutations:\n",
    "[\n",
    "  [1,1,2],\n",
    "  [1,2,1],\n",
    "  [2,1,1]\n",
    "]"
   ]
  },
  {
   "cell_type": "code",
   "execution_count": 3,
   "metadata": {
    "collapsed": false
   },
   "outputs": [
    {
     "name": "stdout",
     "output_type": "stream",
     "text": [
      "[[1, 1, 2], [1, 2, 1], [2, 1, 1]]\n"
     ]
    }
   ],
   "source": [
    "class Solution(object):\n",
    "    def permuteUnique(self, nums):\n",
    "        \"\"\"\n",
    "        :type nums: List[int]\n",
    "        :rtype: List[List[int]]\n",
    "        \"\"\"\n",
    "        if nums==None or len(nums)==0:\n",
    "            return []\n",
    "        if len(nums)==1:\n",
    "            return [nums]\n",
    "        nums.sort()\n",
    "        preNum=None\n",
    "        res=[]\n",
    "        for i in range(len(nums)):\n",
    "            if nums[i]!= preNum:\n",
    "                preNum=nums[i]\n",
    "                for j in self.permuteUnique(nums[:i]+nums[i+1:]):\n",
    "                    res.append([nums[i]]+j)\n",
    "        return res\n",
    "\n",
    "s1=Solution()\n",
    "l=[1,1,2]\n",
    "print(s1.permuteUnique(l))\n",
    "        "
   ]
  },
  {
   "cell_type": "code",
   "execution_count": null,
   "metadata": {
    "collapsed": true
   },
   "outputs": [],
   "source": []
  },
  {
   "cell_type": "code",
   "execution_count": null,
   "metadata": {
    "collapsed": true
   },
   "outputs": [],
   "source": []
  },
  {
   "cell_type": "code",
   "execution_count": null,
   "metadata": {
    "collapsed": true
   },
   "outputs": [],
   "source": []
  }
 ],
 "metadata": {
  "kernelspec": {
   "display_name": "Python 3",
   "language": "python",
   "name": "python3"
  },
  "language_info": {
   "codemirror_mode": {
    "name": "ipython",
    "version": 3
   },
   "file_extension": ".py",
   "mimetype": "text/x-python",
   "name": "python",
   "nbconvert_exporter": "python",
   "pygments_lexer": "ipython3",
   "version": "3.5.1"
  }
 },
 "nbformat": 4,
 "nbformat_minor": 0
}
