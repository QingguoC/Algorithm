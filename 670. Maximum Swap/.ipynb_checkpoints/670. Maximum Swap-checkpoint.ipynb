{
 "cells": [
  {
   "cell_type": "markdown",
   "metadata": {},
   "source": [
    "Given a non-negative integer, you could swap two digits at most once to get the maximum valued number. Return the maximum valued number you could get.\n",
    "\n",
    "Example 1:\n",
    "Input: 2736\n",
    "Output: 7236\n",
    "Explanation: Swap the number 2 and the number 7.\n",
    "Example 2:\n",
    "Input: 9973\n",
    "Output: 9973\n",
    "Explanation: No swap.\n",
    "Note:\n",
    "The given number is in the range [0, 108]"
   ]
  },
  {
   "cell_type": "code",
   "execution_count": 4,
   "metadata": {
    "collapsed": false
   },
   "outputs": [],
   "source": [
    "class Solution(object):\n",
    "    def maximumSwap(self, num):\n",
    "        \"\"\"\n",
    "        :type num: int\n",
    "        :rtype: int\n",
    "        \"\"\"\n",
    "        str_num = str(num)\n",
    "        if len(str_num) == 1:\n",
    "            return num\n",
    "        n = len(str_num)\n",
    "        max_suffix_dp = [[-1,-1] for i in range(n)]\n",
    "        max_suffix_dp[-1] = [str_num[-1],n-1]\n",
    "        for i in range(n-2,-1,-1):\n",
    "            if str_num[i] > max_suffix_dp[i+1][0]:\n",
    "                max_suffix_dp[i] = [str_num[i],i]\n",
    "            else:\n",
    "                max_suffix_dp[i] = max_suffix_dp[i+1]\n",
    "            \n",
    "        for i in range(n):\n",
    "            if max_suffix_dp[i][0] != str_num[i]:\n",
    "                res = str_num[:i] + max_suffix_dp[i][0] + str_num[i+1:max_suffix_dp[i][1]] + str_num[i] + str_num[max_suffix_dp[i][1]+1:]\n",
    "                return int(res)\n",
    "        return num\n",
    "                "
   ]
  },
  {
   "cell_type": "code",
   "execution_count": null,
   "metadata": {
    "collapsed": false
   },
   "outputs": [],
   "source": []
  },
  {
   "cell_type": "code",
   "execution_count": 5,
   "metadata": {
    "collapsed": true
   },
   "outputs": [],
   "source": [
    "sol = Solution()"
   ]
  },
  {
   "cell_type": "code",
   "execution_count": 9,
   "metadata": {
    "collapsed": false
   },
   "outputs": [
    {
     "data": {
      "text/plain": [
       "9967"
      ]
     },
     "execution_count": 9,
     "metadata": {},
     "output_type": "execute_result"
    }
   ],
   "source": [
    "sol.maximumSwap(9769)"
   ]
  },
  {
   "cell_type": "code",
   "execution_count": null,
   "metadata": {
    "collapsed": true
   },
   "outputs": [],
   "source": []
  }
 ],
 "metadata": {
  "anaconda-cloud": {},
  "kernelspec": {
   "display_name": "Python [default]",
   "language": "python",
   "name": "python3"
  },
  "language_info": {
   "codemirror_mode": {
    "name": "ipython",
    "version": 3
   },
   "file_extension": ".py",
   "mimetype": "text/x-python",
   "name": "python",
   "nbconvert_exporter": "python",
   "pygments_lexer": "ipython3",
   "version": "3.5.2"
  }
 },
 "nbformat": 4,
 "nbformat_minor": 1
}
