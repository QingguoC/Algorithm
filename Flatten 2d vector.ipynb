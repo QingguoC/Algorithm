{
 "cells": [
  {
   "cell_type": "markdown",
   "metadata": {},
   "source": [
    "Implement an iterator to flatten a 2d vector.\n",
    "\n",
    "For example,\n",
    "Given 2d vector =\n",
    "\n",
    "[\n",
    "  [1,2],\n",
    "  [3],\n",
    "  [4,5,6]\n",
    "]\n",
    "By calling next repeatedly until hasNext returns false, the order of elements returned by next should be: [1, 2, 3, 4, 5, 6]."
   ]
  },
  {
   "cell_type": "code",
   "execution_count": null,
   "metadata": {
    "collapsed": true
   },
   "outputs": [],
   "source": [
    "class Vector2D:\n",
    "    # Initialize your data structure here.\n",
    "    # @param {integer[][]} vec2d\n",
    "    def __init__(self, vec2d):\n",
    "        self.r=0\n",
    "        self.c=0\n",
    "        \n",
    "    # @return {integer}\n",
    "    def next(self):\n",
    "        \n",
    "\n",
    "    # @return {boolean}\n",
    "    def hasNext(self):\n",
    "        "
   ]
  }
 ],
 "metadata": {
  "anaconda-cloud": {},
  "kernelspec": {
   "display_name": "Python [default]",
   "language": "python",
   "name": "python3"
  },
  "language_info": {
   "codemirror_mode": {
    "name": "ipython",
    "version": 3
   },
   "file_extension": ".py",
   "mimetype": "text/x-python",
   "name": "python",
   "nbconvert_exporter": "python",
   "pygments_lexer": "ipython3",
   "version": "3.5.2"
  }
 },
 "nbformat": 4,
 "nbformat_minor": 1
}
