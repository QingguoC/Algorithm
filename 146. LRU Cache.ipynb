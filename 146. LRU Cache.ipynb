{
 "cells": [
  {
   "cell_type": "markdown",
   "metadata": {},
   "source": [
    "Design and implement a data structure for Least Recently Used (LRU) cache. It should support the following operations: get and put.\n",
    "\n",
    "get(key) - Get the value (will always be positive) of the key if the key exists in the cache, otherwise return -1.\n",
    "put(key, value) - Set or insert the value if the key is not already present. When the cache reached its capacity, it should invalidate the least recently used item before inserting a new item.\n",
    "\n",
    "Follow up:\n",
    "Could you do both operations in O(1) time complexity?\n",
    "\n",
    "Example:\n",
    "\n",
    "LRUCache cache = new LRUCache( 2 /* capacity */ );\n",
    "\n",
    "cache.put(1, 1);\n",
    "cache.put(2, 2);\n",
    "cache.get(1);       // returns 1\n",
    "cache.put(3, 3);    // evicts key 2\n",
    "cache.get(2);       // returns -1 (not found)\n",
    "cache.put(4, 4);    // evicts key 1\n",
    "cache.get(1);       // returns -1 (not found)\n",
    "cache.get(3);       // returns 3\n",
    "cache.get(4);       // returns 4"
   ]
  },
  {
   "cell_type": "code",
   "execution_count": null,
   "metadata": {
    "collapsed": true
   },
   "outputs": [],
   "source": [
    "class LRUCache(object):\n",
    "\n",
    "    def __init__(self, capacity):\n",
    "        \"\"\"\n",
    "        :type capacity: int\n",
    "        \"\"\"\n",
    "        self.mem=[]\n",
    "        self.cache={}\n",
    "        self.cap=capacity\n",
    "\n",
    "    def get(self, key):\n",
    "        \"\"\"\n",
    "        :type key: int\n",
    "        :rtype: int\n",
    "        \"\"\"\n",
    "        if key not in self.cache:\n",
    "            return -1\n",
    "        self.mem.pop(self.cache[key][0])\n",
    "        \n",
    "        return self.cache[key][1]\n",
    "\n",
    "    def put(self, key, value):\n",
    "        \"\"\"\n",
    "        :type key: int\n",
    "        :type value: int\n",
    "        :rtype: void\n",
    "        \"\"\"\n",
    "        if len(self.cache)<self.cap:\n",
    "            \n",
    "            self.cache\n",
    "\n",
    "\n",
    "# Your LRUCache object will be instantiated and called as such:\n",
    "# obj = LRUCache(capacity)\n",
    "# param_1 = obj.get(key)\n",
    "# obj.put(key,value)"
   ]
  },
  {
   "cell_type": "code",
   "execution_count": null,
   "metadata": {
    "collapsed": true
   },
   "outputs": [],
   "source": []
  },
  {
   "cell_type": "code",
   "execution_count": 1,
   "metadata": {
    "collapsed": true
   },
   "outputs": [],
   "source": [
    "d={1:2}"
   ]
  },
  {
   "cell_type": "code",
   "execution_count": 2,
   "metadata": {
    "collapsed": false
   },
   "outputs": [
    {
     "data": {
      "text/plain": [
       "1"
      ]
     },
     "execution_count": 2,
     "metadata": {},
     "output_type": "execute_result"
    }
   ],
   "source": [
    "len(d)"
   ]
  },
  {
   "cell_type": "markdown",
   "metadata": {},
   "source": []
  }
 ],
 "metadata": {
  "kernelspec": {
   "display_name": "Python [default]",
   "language": "python",
   "name": "python3"
  },
  "language_info": {
   "codemirror_mode": {
    "name": "ipython",
    "version": 3
   },
   "file_extension": ".py",
   "mimetype": "text/x-python",
   "name": "python",
   "nbconvert_exporter": "python",
   "pygments_lexer": "ipython3",
   "version": "3.5.2"
  }
 },
 "nbformat": 4,
 "nbformat_minor": 1
}
