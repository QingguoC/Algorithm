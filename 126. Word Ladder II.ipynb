{
 "cells": [
  {
   "cell_type": "markdown",
   "metadata": {},
   "source": [
    "Given two words (beginWord and endWord), and a dictionary's word list, find all shortest transformation sequence(s) from beginWord to endWord, such that:\n",
    "\n",
    "Only one letter can be changed at a time\n",
    "Each transformed word must exist in the word list. Note that beginWord is not a transformed word.\n",
    "For example,\n",
    "\n",
    "Given:\n",
    "beginWord = \"hit\"\n",
    "endWord = \"cog\"\n",
    "wordList = [\"hot\",\"dot\",\"dog\",\"lot\",\"log\",\"cog\"]\n",
    "Return\n",
    "  [\n",
    "    [\"hit\",\"hot\",\"dot\",\"dog\",\"cog\"],\n",
    "    [\"hit\",\"hot\",\"lot\",\"log\",\"cog\"]\n",
    "  ]\n",
    "Note:\n",
    "Return an empty list if there is no such transformation sequence.\n",
    "All words have the same length.\n",
    "All words contain only lowercase alphabetic characters.\n",
    "You may assume no duplicates in the word list.\n",
    "You may assume beginWord and endWord are non-empty and are not the same.\n",
    "UPDATE (2017/1/20):\n",
    "The wordList parameter had been changed to a list of strings (instead of a set of strings). Please reload the code definition to get the latest changes."
   ]
  },
  {
   "cell_type": "code",
   "execution_count": 62,
   "metadata": {
    "collapsed": false
   },
   "outputs": [],
   "source": [
    "class Solution(object):\n",
    "    def findLadders(self, beginWord, endWord, wordList):\n",
    "        \"\"\"\n",
    "        :type beginWord: str\n",
    "        :type endWord: str\n",
    "        :type wordList: List[str]\n",
    "        :rtype: List[List[str]]\n",
    "        \"\"\"\n",
    "        dic=set()\n",
    "        for w in wordList:\n",
    "            dic.add(w)\n",
    "        if endWord not in dic:\n",
    "            return []\n",
    "        parent={}\n",
    "        q=[beginWord]\n",
    "        self.res=[]\n",
    "        \n",
    "            \n",
    "        while q and endWord not in parent:\n",
    "            newQ=[]\n",
    "            for word in q:\n",
    "                for i in range(len(word)):\n",
    "                    for char in \"abcdefghijklmnopqrstuvwxyz\":\n",
    "                        if char is not word[i]:\n",
    "                            newWord=word[:i]+char+word[i+1:]\n",
    "                            if newWord==endWord:\n",
    "                                if endWord not in parent:\n",
    "                                    parent[endWord]=[word]\n",
    "                                else:\n",
    "                                    parent[endWord].append(word)\n",
    "                            elif newWord in dic:\n",
    "                                dic.remove(newWord)\n",
    "                                newQ.append(newWord)\n",
    "                                if newWord not in parent:\n",
    "                                    parent[newWord]=[word]\n",
    "                                else:\n",
    "                                    parent[newWord].append(word)\n",
    "        \n",
    "                            \n",
    "            q=newQ\n",
    "        if endWord not in parent:\n",
    "            return []\n",
    "        #print(parent)\n",
    "        self.dfs(endWord,parent,[])\n",
    "        return self.res\n",
    "        \n",
    "    def dfs(self,root,parent,lis):\n",
    "        lis.append(root)\n",
    "        if root not in parent:\n",
    "            self.res.append(lis[::-1])\n",
    "            lis[:]=lis[:1]\n",
    "            return\n",
    "        t=parent[root]\n",
    "        #parent.pop(root)\n",
    "\n",
    "        for w in t:\n",
    "\n",
    "            self.dfs(w,parent,lis)\n"
   ]
  },
  {
   "cell_type": "code",
   "execution_count": 63,
   "metadata": {
    "collapsed": true
   },
   "outputs": [],
   "source": [
    "s=Solution()"
   ]
  },
  {
   "cell_type": "code",
   "execution_count": 64,
   "metadata": {
    "collapsed": false
   },
   "outputs": [
    {
     "data": {
      "text/plain": [
       "[['hit', 'hot', 'dot', 'dog', 'cog'], ['hit', 'hot', 'lot', 'log', 'cog']]"
      ]
     },
     "execution_count": 64,
     "metadata": {},
     "output_type": "execute_result"
    }
   ],
   "source": [
    "s.findLadders(\"hit\",\"cog\",[\"hot\",\"dot\",\"dog\",\"lot\",\"log\",\"cog\"])"
   ]
  },
  {
   "cell_type": "code",
   "execution_count": 65,
   "metadata": {
    "collapsed": false
   },
   "outputs": [
    {
     "data": {
      "text/plain": [
       "[['a', 'c']]"
      ]
     },
     "execution_count": 65,
     "metadata": {},
     "output_type": "execute_result"
    }
   ],
   "source": [
    "s.findLadders(\"a\",\n",
    "\"c\",\n",
    "[\"a\",\"b\",\"c\"])"
   ]
  },
  {
   "cell_type": "code",
   "execution_count": 43,
   "metadata": {
    "collapsed": true
   },
   "outputs": [],
   "source": [
    "a={1:\"2\",2:[3,4]}"
   ]
  },
  {
   "cell_type": "code",
   "execution_count": 44,
   "metadata": {
    "collapsed": false
   },
   "outputs": [
    {
     "data": {
      "text/plain": [
       "'2'"
      ]
     },
     "execution_count": 44,
     "metadata": {},
     "output_type": "execute_result"
    }
   ],
   "source": [
    "a[1]"
   ]
  },
  {
   "cell_type": "code",
   "execution_count": 46,
   "metadata": {
    "collapsed": false
   },
   "outputs": [
    {
     "data": {
      "text/plain": [
       "'2'"
      ]
     },
     "execution_count": 46,
     "metadata": {},
     "output_type": "execute_result"
    }
   ],
   "source": [
    "a.pop(1)"
   ]
  },
  {
   "cell_type": "code",
   "execution_count": 47,
   "metadata": {
    "collapsed": false
   },
   "outputs": [
    {
     "data": {
      "text/plain": [
       "{2: [3, 4]}"
      ]
     },
     "execution_count": 47,
     "metadata": {},
     "output_type": "execute_result"
    }
   ],
   "source": [
    "a"
   ]
  },
  {
   "cell_type": "code",
   "execution_count": null,
   "metadata": {
    "collapsed": true
   },
   "outputs": [],
   "source": []
  }
 ],
 "metadata": {
  "anaconda-cloud": {},
  "kernelspec": {
   "display_name": "Python [default]",
   "language": "python",
   "name": "python3"
  },
  "language_info": {
   "codemirror_mode": {
    "name": "ipython",
    "version": 3
   },
   "file_extension": ".py",
   "mimetype": "text/x-python",
   "name": "python",
   "nbconvert_exporter": "python",
   "pygments_lexer": "ipython3",
   "version": "3.5.2"
  }
 },
 "nbformat": 4,
 "nbformat_minor": 1
}
