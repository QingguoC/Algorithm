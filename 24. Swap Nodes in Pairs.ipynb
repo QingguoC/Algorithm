{
 "cells": [
  {
   "cell_type": "markdown",
   "metadata": {},
   "source": [
    "Given a linked list, swap every two adjacent nodes and return its head.\n",
    "\n",
    "For example,\n",
    "Given 1->2->3->4, you should return the list as 2->1->4->3.\n",
    "\n",
    "Your algorithm should use only constant space. You may not modify the values in the list, only nodes itself can be changed."
   ]
  },
  {
   "cell_type": "code",
   "execution_count": 2,
   "metadata": {
    "collapsed": false
   },
   "outputs": [
    {
     "name": "stdout",
     "output_type": "stream",
     "text": [
      "1->2->3->4->5->\n",
      "*********\n",
      "2->1->4->3->5->\n"
     ]
    }
   ],
   "source": [
    "\n",
    "\n",
    "class ListNode(object):\n",
    "    def __init__(self, x):\n",
    "        self.val = x\n",
    "        self.next = None\n",
    "        \n",
    "class Solution(object):\n",
    "    def swapPairs(self, head):\n",
    "        \"\"\"\n",
    "        :type head: ListNode\n",
    "        :rtype: ListNode\n",
    "        \"\"\"\n",
    "        dummy=ListNode(0)\n",
    "        dummy.next=head\n",
    "        p=dummy\n",
    "        while p.next and p.next.next:\n",
    "            self.swapnode(p,p.next,p.next.next)\n",
    "            p=p.next.next\n",
    "        return dummy.next\n",
    "        \n",
    "    def swapnode(self,p1,n1,n2):\n",
    "        n1.next=n2.next\n",
    "        n2.next=n1\n",
    "        p1.next=n2\n",
    "\n",
    "def printL(head):\n",
    "        p=head\n",
    "        s=''\n",
    "        while(p):\n",
    "            s=s+str(p.val)+'->'\n",
    "            p=p.next\n",
    "        print(s)\n",
    "        \n",
    "ln1=ListNode(1)\n",
    "ln2=ListNode(2)\n",
    "ln3=ListNode(3)\n",
    "ln4=ListNode(4)\n",
    "ln5=ListNode(5)\n",
    "\n",
    "ln1.next=ln2\n",
    "ln2.next=ln3\n",
    "ln3.next=ln4\n",
    "ln4.next=ln5\n",
    "printL(ln1)\n",
    "print('*********')\n",
    "s1=Solution()\n",
    "printL(s1.swapPairs(ln1))"
   ]
  },
  {
   "cell_type": "code",
   "execution_count": null,
   "metadata": {
    "collapsed": true
   },
   "outputs": [],
   "source": []
  },
  {
   "cell_type": "code",
   "execution_count": null,
   "metadata": {
    "collapsed": true
   },
   "outputs": [],
   "source": []
  }
 ],
 "metadata": {
  "kernelspec": {
   "display_name": "Python 3",
   "language": "python",
   "name": "python3"
  },
  "language_info": {
   "codemirror_mode": {
    "name": "ipython",
    "version": 3
   },
   "file_extension": ".py",
   "mimetype": "text/x-python",
   "name": "python",
   "nbconvert_exporter": "python",
   "pygments_lexer": "ipython3",
   "version": "3.5.1"
  }
 },
 "nbformat": 4,
 "nbformat_minor": 0
}
