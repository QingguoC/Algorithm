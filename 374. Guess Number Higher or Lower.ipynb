{
 "cells": [
  {
   "cell_type": "markdown",
   "metadata": {},
   "source": [
    "We are playing the Guess Game. The game is as follows:\n",
    "\n",
    "I pick a number from 1 to n. You have to guess which number I picked.\n",
    "\n",
    "Every time you guess wrong, I'll tell you whether the number is higher or lower.\n",
    "\n",
    "You call a pre-defined API guess(int num) which returns 3 possible results (-1, 1, or 0):\n",
    "\n",
    "-1 : My number is lower\n",
    " 1 : My number is higher\n",
    " 0 : Congrats! You got it!\n",
    "Example:\n",
    "n = 10, I pick 6.\n",
    "\n",
    "Return 6."
   ]
  },
  {
   "cell_type": "code",
   "execution_count": 4,
   "metadata": {
    "collapsed": true
   },
   "outputs": [],
   "source": [
    "# The guess API is already defined for you.\n",
    "# @param num, your guess\n",
    "# @return -1 if my number is lower, 1 if my number is higher, otherwise return 0\n",
    "# def guess(num):\n",
    "\n",
    "class Solution(object):\n",
    "    def guessNumber(self, n):\n",
    "        \"\"\"\n",
    "        :type n: int\n",
    "        :rtype: int\n",
    "        \"\"\"\n",
    "        if n==1:\n",
    "            return 1\n",
    "        lo=1\n",
    "        hi=n\n",
    "        while lo < hi:\n",
    "            mid=lo+(hi-lo)//2\n",
    "            ref=guess(mid)\n",
    "            if ref<0:\n",
    "                hi=mid-1\n",
    "            elif ref>0:\n",
    "                lo=mid+1\n",
    "            else:\n",
    "                return mid\n",
    "        \n",
    "        return lo\n",
    "        \n",
    "                "
   ]
  },
  {
   "cell_type": "code",
   "execution_count": 2,
   "metadata": {
    "collapsed": false
   },
   "outputs": [],
   "source": [
    "\n",
    "def guess(num):\n",
    "    global x\n",
    "    x=6\n",
    "    if x<num:\n",
    "        return -1\n",
    "    elif x==num:\n",
    "        return 0\n",
    "    else:\n",
    "        return 1"
   ]
  },
  {
   "cell_type": "code",
   "execution_count": 3,
   "metadata": {
    "collapsed": false
   },
   "outputs": [
    {
     "data": {
      "text/plain": [
       "1"
      ]
     },
     "execution_count": 3,
     "metadata": {},
     "output_type": "execute_result"
    }
   ],
   "source": [
    "guess(3)"
   ]
  },
  {
   "cell_type": "code",
   "execution_count": null,
   "metadata": {
    "collapsed": true
   },
   "outputs": [],
   "source": []
  },
  {
   "cell_type": "code",
   "execution_count": 5,
   "metadata": {
    "collapsed": true
   },
   "outputs": [],
   "source": [
    "s=Solution()"
   ]
  },
  {
   "cell_type": "code",
   "execution_count": 9,
   "metadata": {
    "collapsed": false
   },
   "outputs": [
    {
     "data": {
      "text/plain": [
       "1"
      ]
     },
     "execution_count": 9,
     "metadata": {},
     "output_type": "execute_result"
    }
   ],
   "source": [
    "s.guessNumber(1)"
   ]
  },
  {
   "cell_type": "code",
   "execution_count": null,
   "metadata": {
    "collapsed": true
   },
   "outputs": [],
   "source": []
  },
  {
   "cell_type": "code",
   "execution_count": null,
   "metadata": {
    "collapsed": true
   },
   "outputs": [],
   "source": []
  },
  {
   "cell_type": "code",
   "execution_count": null,
   "metadata": {
    "collapsed": true
   },
   "outputs": [],
   "source": []
  },
  {
   "cell_type": "code",
   "execution_count": null,
   "metadata": {
    "collapsed": true
   },
   "outputs": [],
   "source": []
  },
  {
   "cell_type": "markdown",
   "metadata": {},
   "source": []
  }
 ],
 "metadata": {
  "kernelspec": {
   "display_name": "Python [default]",
   "language": "python",
   "name": "python3"
  },
  "language_info": {
   "codemirror_mode": {
    "name": "ipython",
    "version": 3
   },
   "file_extension": ".py",
   "mimetype": "text/x-python",
   "name": "python",
   "nbconvert_exporter": "python",
   "pygments_lexer": "ipython3",
   "version": "3.5.2"
  }
 },
 "nbformat": 4,
 "nbformat_minor": 1
}
