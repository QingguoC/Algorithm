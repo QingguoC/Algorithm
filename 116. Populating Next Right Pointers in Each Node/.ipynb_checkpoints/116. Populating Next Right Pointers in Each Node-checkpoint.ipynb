{
 "cells": [
  {
   "cell_type": "markdown",
   "metadata": {},
   "source": [
    "Given a binary tree\n",
    "\n",
    "    struct TreeLinkNode {\n",
    "      TreeLinkNode *left;\n",
    "      TreeLinkNode *right;\n",
    "      TreeLinkNode *next;\n",
    "    }\n",
    "Populate each next pointer to point to its next right node. If there is no next right node, the next pointer should be set to NULL.\n",
    "\n",
    "Initially, all next pointers are set to NULL.\n",
    "\n",
    "Note:\n",
    "\n",
    "You may only use constant extra space.\n",
    "You may assume that it is a perfect binary tree (ie, all leaves are at the same level, and every parent has two children).\n",
    "For example,\n",
    "Given the following perfect binary tree,\n",
    "         1\n",
    "       /  \\\n",
    "      2    3\n",
    "     / \\  / \\\n",
    "    4  5  6  7\n",
    "After calling your function, the tree should look like:\n",
    "         1 -> NULL\n",
    "       /  \\\n",
    "      2 -> 3 -> NULL\n",
    "     / \\  / \\\n",
    "    4->5->6->7 -> NULL"
   ]
  },
  {
   "cell_type": "code",
   "execution_count": 3,
   "metadata": {
    "collapsed": false
   },
   "outputs": [],
   "source": [
    "class TreeLinkNode:\n",
    "    def __init__(self, x):\n",
    "        self.val = x\n",
    "        self.left = None\n",
    "        self.right = None\n",
    "        self.next = None\n",
    "\n",
    "class Solution:\n",
    "    # @param root, a tree link node\n",
    "    # @return nothing\n",
    "    def connect(self, root):\n",
    "        if not root:\n",
    "            return root\n",
    "        curr_layer = [root]\n",
    "        while curr_layer:\n",
    "            next_layer = []\n",
    "            prev_node = curr_layer[0]\n",
    "            if prev_node.left:\n",
    "                next_layer.append(prev_node.left)\n",
    "            if prev_node.right:\n",
    "                next_layer.append(prev_node.right)\n",
    "            for i in range(1,len(curr_layer)):\n",
    "                prev_node.next = curr_layer[i]\n",
    "                prev_node=prev_node.next\n",
    "                if prev_node.left:\n",
    "                    next_layer.append(prev_node.left)\n",
    "                if prev_node.right:\n",
    "                    next_layer.append(prev_node.right)\n",
    "            curr_layer=next_layer\n"
   ]
  },
  {
   "cell_type": "code",
   "execution_count": 4,
   "metadata": {
    "collapsed": true
   },
   "outputs": [],
   "source": [
    "t1 = TreeLinkNode(1)\n",
    "t2 = TreeLinkNode(2)\n",
    "t3 = TreeLinkNode(3)\n",
    "t4 = TreeLinkNode(4)\n",
    "t5 = TreeLinkNode(5)\n",
    "t6 = TreeLinkNode(6)\n",
    "t7 = TreeLinkNode(7)\n",
    "t1.left = t2\n",
    "t1.right = t3\n",
    "t2.left = t4\n",
    "t2.right = t5\n",
    "t3.left = t6\n",
    "t3.right = t7"
   ]
  },
  {
   "cell_type": "code",
   "execution_count": 5,
   "metadata": {
    "collapsed": true
   },
   "outputs": [],
   "source": [
    "sol = Solution()"
   ]
  },
  {
   "cell_type": "code",
   "execution_count": 6,
   "metadata": {
    "collapsed": true
   },
   "outputs": [],
   "source": [
    "sol.connect(t1)"
   ]
  },
  {
   "cell_type": "code",
   "execution_count": 7,
   "metadata": {
    "collapsed": false
   },
   "outputs": [
    {
     "data": {
      "text/plain": [
       "6"
      ]
     },
     "execution_count": 7,
     "metadata": {},
     "output_type": "execute_result"
    }
   ],
   "source": [
    "t5.next.val"
   ]
  },
  {
   "cell_type": "markdown",
   "metadata": {},
   "source": [
    "typical level traversal"
   ]
  }
 ],
 "metadata": {
  "anaconda-cloud": {},
  "kernelspec": {
   "display_name": "Python [default]",
   "language": "python",
   "name": "python3"
  },
  "language_info": {
   "codemirror_mode": {
    "name": "ipython",
    "version": 3
   },
   "file_extension": ".py",
   "mimetype": "text/x-python",
   "name": "python",
   "nbconvert_exporter": "python",
   "pygments_lexer": "ipython3",
   "version": "3.5.2"
  }
 },
 "nbformat": 4,
 "nbformat_minor": 1
}
