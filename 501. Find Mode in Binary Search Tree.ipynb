{
 "cells": [
  {
   "cell_type": "markdown",
   "metadata": {},
   "source": [
    "Given a binary search tree (BST) with duplicates, find all the mode(s) (the most frequently occurred element) in the given BST.\n",
    "\n",
    "Assume a BST is defined as follows:\n",
    "\n",
    "The left subtree of a node contains only nodes with keys less than or equal to the node's key.\n",
    "The right subtree of a node contains only nodes with keys greater than or equal to the node's key.\n",
    "Both the left and right subtrees must also be binary search trees.\n",
    "For example:\n",
    "Given BST [1,null,2,2],\n",
    "   1\n",
    "    \\\n",
    "     2\n",
    "    /\n",
    "   2\n",
    "return [2].\n",
    "\n",
    "Note: If a tree has more than one mode, you can return them in any order.\n",
    "\n",
    "Follow up: Could you do that without using any extra space? (Assume that the implicit stack space incurred due to recursion does not count)."
   ]
  },
  {
   "cell_type": "code",
   "execution_count": null,
   "metadata": {
    "collapsed": true
   },
   "outputs": [],
   "source": [
    "\n",
    "class TreeNode(object):\n",
    "    def __init__(self,x):\n",
    "        self.val=x\n",
    "        self.left=None\n",
    "        self.right=None\n",
    "class Solution(object):\n",
    "    def findMode(self, root):\n",
    "        \"\"\"\n",
    "        :type root: TreeNode\n",
    "        :rtype: List[int]\n",
    "        \"\"\"\n",
    "        if not root:\n",
    "            return []\n",
    "        self.dic={}\n",
    "        self.search(root)\n",
    "        modeN=0\n",
    "        res=[]\n",
    "        for v in self.dic:\n",
    "            modeN=max(modeN,self.dic[v])\n",
    "        \n",
    "        for v in self.dic:\n",
    "            if self.dic[v]==modeN:\n",
    "                res.append(v)\n",
    "        return res\n",
    "            \n",
    "    def search(self,root):\n",
    "        if not root:\n",
    "            return\n",
    "        if root.val in self.dic:\n",
    "            self.dic[root.val]+=1\n",
    "        else:\n",
    "            self.dic[root.val]=1\n",
    "        self.search(root.left)\n",
    "        self.search(root.right)"
   ]
  },
  {
   "cell_type": "code",
   "execution_count": null,
   "metadata": {
    "collapsed": true
   },
   "outputs": [],
   "source": [
    "class TreeNode(object):\n",
    "    def __init__(self,x):\n",
    "        self.val=x\n",
    "        self.left=None\n",
    "        self.right=None\n",
    "class Solution(object):\n",
    "    def findMode(self, root):\n",
    "        \"\"\"\n",
    "        :type root: TreeNode\n",
    "        :rtype: List[int]\n",
    "        \"\"\"\n",
    "        self.modeN=0\n",
    "        self.preV=None\n",
    "        self.count=0\n",
    "    def search(self,root):\n",
    "        if not root:\n",
    "            return\n",
    "        \n",
    "        self.search(root.left)\n",
    "        if not self.preV:\n",
    "            self.preV=root.val\n",
    "            self.count+=1\n",
    "        elif self.preV and self.preV==root.val:\n",
    "            self.count+=1\n",
    "        else:\n",
    "            self.modeN=max(self.modeN,self.count)\n",
    "            self.preV=root.val\n",
    "            self.count=1\n",
    "        \n",
    "            \n",
    "        self.modeN=max(self.modeN,root.val)\n",
    "        self.search(root.right)"
   ]
  },
  {
   "cell_type": "code",
   "execution_count": null,
   "metadata": {
    "collapsed": true
   },
   "outputs": [],
   "source": []
  },
  {
   "cell_type": "code",
   "execution_count": null,
   "metadata": {
    "collapsed": true
   },
   "outputs": [],
   "source": []
  },
  {
   "cell_type": "code",
   "execution_count": null,
   "metadata": {
    "collapsed": true
   },
   "outputs": [],
   "source": []
  },
  {
   "cell_type": "code",
   "execution_count": null,
   "metadata": {
    "collapsed": true
   },
   "outputs": [],
   "source": []
  },
  {
   "cell_type": "code",
   "execution_count": null,
   "metadata": {
    "collapsed": true
   },
   "outputs": [],
   "source": []
  },
  {
   "cell_type": "code",
   "execution_count": null,
   "metadata": {
    "collapsed": true
   },
   "outputs": [],
   "source": []
  },
  {
   "cell_type": "code",
   "execution_count": null,
   "metadata": {
    "collapsed": true
   },
   "outputs": [],
   "source": []
  },
  {
   "cell_type": "code",
   "execution_count": null,
   "metadata": {
    "collapsed": true
   },
   "outputs": [],
   "source": []
  },
  {
   "cell_type": "code",
   "execution_count": null,
   "metadata": {
    "collapsed": true
   },
   "outputs": [],
   "source": []
  },
  {
   "cell_type": "markdown",
   "metadata": {},
   "source": []
  }
 ],
 "metadata": {
  "anaconda-cloud": {},
  "kernelspec": {
   "display_name": "Python [default]",
   "language": "python",
   "name": "python3"
  },
  "language_info": {
   "codemirror_mode": {
    "name": "ipython",
    "version": 3
   },
   "file_extension": ".py",
   "mimetype": "text/x-python",
   "name": "python",
   "nbconvert_exporter": "python",
   "pygments_lexer": "ipython3",
   "version": "3.5.2"
  }
 },
 "nbformat": 4,
 "nbformat_minor": 1
}
